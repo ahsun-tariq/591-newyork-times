{
 "cells": [
  {
   "cell_type": "code",
   "execution_count": 106,
   "id": "f248a9ba",
   "metadata": {},
   "outputs": [],
   "source": [
    "import nwhy\n",
    "import hypernetx as hnx\n",
    "import networkx as nx\n",
    "from networkx import Graph\n",
    "import os\n",
    "import numpy as np\n",
    "import csv\n",
    "import pickle"
   ]
  },
  {
   "cell_type": "code",
   "execution_count": 3,
   "id": "8968f02b",
   "metadata": {},
   "outputs": [],
   "source": [
    "path = r'/mnt/c/pythonProjects/591-newyork-times/archive'"
   ]
  },
  {
   "cell_type": "code",
   "execution_count": 4,
   "id": "a3b3175e",
   "metadata": {},
   "outputs": [
    {
     "name": "stdout",
     "output_type": "stream",
     "text": [
      "['ArticlesApril2017.csv', 'ArticlesApril2018.csv', 'ArticlesFeb2017.csv', 'ArticlesFeb2018.csv', 'ArticlesJan2017.csv', 'ArticlesJan2018.csv', 'ArticlesMarch2017.csv', 'ArticlesMarch2018.csv', 'ArticlesMay2017.csv', 'CommentsApril2017.csv', 'CommentsApril2018.csv', 'CommentsFeb2017.csv', 'CommentsFeb2018.csv', 'CommentsJan2017.csv', 'CommentsJan2018.csv', 'CommentsMarch2017.csv', 'CommentsMarch2018.csv', 'CommentsMay2017.csv']\n"
     ]
    }
   ],
   "source": [
    "print(os.listdir(path))"
   ]
  },
  {
   "cell_type": "code",
   "execution_count": 5,
   "id": "48ab3515",
   "metadata": {},
   "outputs": [
    {
     "name": "stdout",
     "output_type": "stream",
     "text": [
      "['/mnt/c/pythonProjects/591-newyork-times/archive/ArticlesJan2018.csv', '/mnt/c/pythonProjects/591-newyork-times/archive/ArticlesFeb2018.csv', '/mnt/c/pythonProjects/591-newyork-times/archive/ArticlesMarch2018.csv']\n",
      "['/mnt/c/pythonProjects/591-newyork-times/archive/CommentsJan2018.csv', '/mnt/c/pythonProjects/591-newyork-times/archive/CommentsFeb2018.csv', '/mnt/c/pythonProjects/591-newyork-times/archive/CommentsMarch2018.csv']\n"
     ]
    }
   ],
   "source": [
    "paths_articles = []\n",
    "paths_comments = []\n",
    "\n",
    "articles_file_path_jan = path + '/' +'ArticlesJan2018.csv'\n",
    "paths_articles.append(articles_file_path_jan)\n",
    "comments_file_path_jan = path + '/' + 'CommentsJan2018.csv'\n",
    "paths_comments.append(comments_file_path_jan)\n",
    "\n",
    "articles_file_path_feb = path + '/' +'ArticlesFeb2018.csv'\n",
    "paths_articles.append(articles_file_path_feb)\n",
    "comments_file_path_feb = path + '/' + 'CommentsFeb2018.csv'\n",
    "paths_comments.append(comments_file_path_feb)\n",
    "\n",
    "\n",
    "articles_file_path_march = path + '/' +'ArticlesMarch2018.csv'\n",
    "paths_articles.append(articles_file_path_march)\n",
    "comments_file_path_march = path + '/' + 'CommentsMarch2018.csv'\n",
    "paths_comments.append(comments_file_path_march)\n",
    "\n",
    "articles_file_path_april = path + '/' +'ArticlesApril2018.csv'\n",
    "# paths_articles.append(articles_file_path_april)\n",
    "comments_file_path_april = path + '/' + 'CommentsApril2018.csv'\n",
    "# paths_comments.append(comments_file_path_april)\n",
    "\n",
    "print(paths_articles)\n",
    "print(paths_comments)"
   ]
  },
  {
   "cell_type": "code",
   "execution_count": 6,
   "id": "363be082",
   "metadata": {},
   "outputs": [],
   "source": [
    "def createDictionary(array_of_dictionaries):\n",
    "    dictionary = array_of_dictionaries[0]\n",
    "    for i in range(1, len(array_of_dictionaries)):\n",
    "        dictionary.update(array_of_dictionaries[i])\n",
    "    return dictionary\n",
    "        "
   ]
  },
  {
   "cell_type": "code",
   "execution_count": 7,
   "id": "2782ee29",
   "metadata": {},
   "outputs": [
    {
     "name": "stdout",
     "output_type": "stream",
     "text": [
      "3445\n",
      "3445\n"
     ]
    }
   ],
   "source": [
    "articles  = {}\n",
    "count = 0\n",
    "for articles_file_path in paths_articles:\n",
    "\n",
    "    with open(articles_file_path, \"r\",encoding=\"utf-8\",newline=\"\") as f:\n",
    "        csv_reader = csv.reader(f, delimiter=\",\")\n",
    "        header = next(csv_reader)\n",
    "        record = [{field:None} for field in header]\n",
    "        index = 0\n",
    "        for i,item in enumerate(record):\n",
    "            if(list(item.keys())[0]) == \"articleID\":\n",
    "                index =i\n",
    "        for row in csv_reader:\n",
    "            record = [{field:None} for field in header]\n",
    "            for i, item in enumerate(row):\n",
    "                record[i][list(record[i].keys())[0]] = item\n",
    "            articles[row[index]]= createDictionary(record)\n",
    "            count += 1\n",
    "print(count)\n",
    "print(len(articles))"
   ]
  },
  {
   "cell_type": "code",
   "execution_count": 96,
   "id": "60040179",
   "metadata": {},
   "outputs": [
    {
     "name": "stdout",
     "output_type": "stream",
     "text": [
      "loaded articles from articles.pickle..\n",
      "3445\n"
     ]
    }
   ],
   "source": [
    "files = os.listdir()\n",
    "if not \"articles.pickle\" in files:\n",
    "    with open('articles.pickle', 'wb') as f:\n",
    "        print(\"dumping articles into articles.pickle....\")\n",
    "        pickle.dump(articles, f)\n",
    "else:\n",
    "    with open(\"articles.pickle\", \"rb\") as f:\n",
    "        print(\"loaded articles from articles.pickle..\")\n",
    "        articles = pickle.load(f)\n",
    "print(len(articles))\n"
   ]
  },
  {
   "cell_type": "code",
   "execution_count": 8,
   "id": "7e2dd36a",
   "metadata": {},
   "outputs": [
    {
     "name": "stdout",
     "output_type": "stream",
     "text": [
      "{'abstract': '', 'articleID': '5a7101c110f40f00018be961', 'articleWordCount': '1322', 'byline': 'By SHANNON SIMS', 'documentType': 'article', 'headline': 'Rhythm of the Streets: ‘We’re Warrior Women, and Yes, We Can Play’', 'keywords': \"['Bahia (Brazil)', 'Music', 'Women and Girls', 'Banda Dida (Music Group)', 'Drums', 'Carnival (Pre-Lenten)']\", 'multimedia': '68', 'newDesk': 'Travel', 'printPage': '5', 'pubDate': '2018-01-30 23:37:31', 'sectionName': 'Unknown', 'snippet': 'Meet the all-female Brazilian drum group that is challenging gender norms.', 'source': 'The New York Times', 'typeOfMaterial': 'News', 'webURL': 'https://www.nytimes.com/2018/01/30/travel/brazil-all-female-drums-bahia-banda-dida.html'}\n",
      "{'abstract': '', 'articleID': '5a70fc1210f40f00018be950', 'articleWordCount': '1308', 'byline': 'By ALAN RAPPEPORT and THOMAS KAPLAN', 'documentType': 'article', 'headline': 'As Deficit Grows, Congress Keeps Spending', 'keywords': \"['United States Politics and Government', 'Federal Budget (US)', 'Federal Taxes (US)', 'National Debt (US)', 'Infrastructure (Public Works)', 'Trump, Donald J']\", 'multimedia': '68', 'newDesk': 'Washington', 'printPage': '17', 'pubDate': '2018-01-30 23:13:14', 'sectionName': 'Politics', 'snippet': 'Treasury Secretary Steven Mnuchin urged Congress to lift the debt ceiling as lawmakers embark on a spending spree.', 'source': 'The New York Times', 'typeOfMaterial': 'News', 'webURL': 'https://www.nytimes.com/2018/01/30/us/politics/federal-deficit-1-trillion.html'}\n",
      "{'abstract': '', 'articleID': '5a70f8f810f40f00018be943', 'articleWordCount': '228', 'byline': 'By JANE LANG', 'documentType': 'article', 'headline': 'Lesson in Select Bus Service', 'keywords': \"['Buses', 'Pennsylvania Station (Manhattan, NY)', 'New York City']\", 'multimedia': '0', 'newDesk': 'Metro', 'printPage': '16', 'pubDate': '2018-01-30 23:00:01', 'sectionName': 'Unknown', 'snippet': 'A woman finds out what happens when you don’t pay your fare before boarding.', 'source': 'The New York Times', 'typeOfMaterial': 'News', 'webURL': 'https://www.nytimes.com/2018/01/30/nyregion/metropolitan-diary-lesson-in-select-bus-service.html'}\n",
      "{'abstract': '', 'articleID': '5a70eb8110f40f00018be925', 'articleWordCount': '1114', 'byline': 'By THE EDITORIAL BOARD', 'documentType': 'article', 'headline': 'Here’s the Real State of the Union', 'keywords': \"['State of the Union Message (US)', 'Trump, Donald J', 'United States Politics and Government', 'United States International Relations']\", 'multimedia': '61', 'newDesk': 'Editorial', 'printPage': '24', 'pubDate': '2018-01-30 22:02:36', 'sectionName': 'Editorials', 'snippet': 'The reaction against his authoritarian impulses, assault on truth and cruelties great and petty has revealed abiding American strengths.', 'source': 'The New York Times', 'typeOfMaterial': 'Editorial', 'webURL': 'https://www.nytimes.com/2018/01/30/opinion/editorials/donald-trump-sotu-boasting.html'}\n",
      "{'abstract': '', 'articleID': '5a70d1d210f40f00018be8d9', 'articleWordCount': '777', 'byline': 'By BERT STRATTON', 'documentType': 'article', 'headline': 'Good Riddance to Chief Wahoo', 'keywords': \"['Baseball', 'Cleveland Indians', 'Western Reserve Historical Society', 'Cleveland (Ohio)']\", 'multimedia': '68', 'newDesk': 'OpEd', 'printPage': '0', 'pubDate': '2018-01-30 20:13:01', 'sectionName': 'Unknown', 'snippet': 'I’ve lived in Cleveland all my life, and I’m glad to see the racist mascot go.', 'source': 'The New York Times', 'typeOfMaterial': 'Op-Ed', 'webURL': 'https://www.nytimes.com/2018/01/30/opinion/chief-wahoo-cleveland.html'}\n"
     ]
    }
   ],
   "source": [
    "count = 0\n",
    "for ID in articles:\n",
    "    print(articles[ID])\n",
    "    count +=1\n",
    "    if count==5:\n",
    "        break\n",
    "    "
   ]
  },
  {
   "cell_type": "code",
   "execution_count": 9,
   "id": "428e661e",
   "metadata": {},
   "outputs": [
    {
     "name": "stdout",
     "output_type": "stream",
     "text": [
      "665396\n",
      "total comments: 640904\n"
     ]
    }
   ],
   "source": [
    "comments = {}\n",
    "num = 0\n",
    "for comments_file_path in paths_comments:\n",
    "    with open(comments_file_path, \"r\",encoding=\"utf-8\",newline=\"\") as f:\n",
    "        csv_reader = csv.reader(f, delimiter=\",\")\n",
    "        header = next(csv_reader)\n",
    "        record = [{field:None} for field in header]\n",
    "        index = 4\n",
    "        for i,item in enumerate(record):\n",
    "            if(list(item.keys())[0]) == \"commentID\":\n",
    "                index =i\n",
    "        for row in csv_reader:\n",
    "            num+=1\n",
    "            record = [{field:None} for field in header]\n",
    "            for i, item in enumerate(row):\n",
    "                record[i][list(record[i].keys())[0]] = item\n",
    "            dictionary = createDictionary(record)\n",
    "            if dictionary[\"articleID\"] in articles.keys():\n",
    "                comments[str(row[index])] = dictionary\n",
    "            \n",
    "print(num)\n",
    "print(f'total comments: {len(comments)}')"
   ]
  },
  {
   "cell_type": "code",
   "execution_count": 98,
   "id": "f84c9415",
   "metadata": {},
   "outputs": [
    {
     "name": "stdout",
     "output_type": "stream",
     "text": [
      "loaded comments from comments.pickle..\n",
      "640904\n"
     ]
    }
   ],
   "source": [
    "files = os.listdir()\n",
    "if not \"comments.pickle\" in files:\n",
    "    with open('comments.pickle', 'wb') as f:\n",
    "        print(\"dumping comments into comments.pickle....\")\n",
    "        pickle.dump(comments, f)\n",
    "else:\n",
    "    with open(\"comments.pickle\", \"rb\") as f:\n",
    "        print(\"loaded comments from comments.pickle..\")\n",
    "        comments = pickle.load(f)\n",
    "        \n",
    "print(len(comments))"
   ]
  },
  {
   "cell_type": "code",
   "execution_count": 10,
   "id": "d3ab82f4",
   "metadata": {},
   "outputs": [
    {
     "name": "stdout",
     "output_type": "stream",
     "text": [
      "26156416.0\n",
      "{'approveDate': '1519852022', 'articleID': '5a7101c110f40f00018be961', 'articleWordCount': '1322', 'commentBody': 'I typically strongly dislike articles which bring up such tiny disadvantages to women. But this article I liked. It mentioned, “with many female politicians being replaced by male lawmakers who have pushed for legislation to limit women’s access to abortion,” which would normally tick my non-feminist self off in a regular old article, but I feel as though the beating of their drums are beating a new perspective in my heart. The Bahia group is going against cultural norms by becoming the “first all-female bloco-afro in Brazil” and that problem was certainly not tiny. They are drumming for their rights as women. They are drumming for their rights of their race. This article has influenced me to stand for any matter I want to defend with determination just as these women did in Banda Dida.', 'commentID': '26156416.0', 'commentSequence': '26156416.0', 'commentTitle': '<br/>', 'commentType': 'comment', 'createDate': '1519849555', 'depth': '1.0', 'editorsSelection': 'False', 'inReplyTo': '0', 'newDesk': 'Travel', 'parentID': '0.0', 'parentUserDisplayName': '', 'permID': '26156416', 'picURL': 'https://graphics8.nytimes.com/images/apps/timespeople/none.png', 'printPage': '5', 'recommendations': '1', 'recommendedFlag': '', 'replyCount': '0', 'reportAbuseFlag': '', 'sectionName': 'Unknown', 'sharing': '0', 'status': 'approved', 'timespeople': '0', 'trusted': '0', 'typeOfMaterial': 'News', 'updateDate': '1519852022', 'userDisplayName': 'Emma Claire Lisk', 'userID': '83288014.0', 'userLocation': 'Wilmington, NC', 'userTitle': '', 'userURL': ''}\n",
      "25930059.0\n",
      "{'approveDate': '1518469135', 'articleID': '5a7101c110f40f00018be961', 'articleWordCount': '1322', 'commentBody': \"I went to Cuba twice in 1998-9 to study Afro-Cuban drumming.  I am a woman.  I didn't experience any prejudice--I suppose money silences that--but we also visited Matanzas, where we listened to stellar drummers in the home of a woman who was the leader of the group.  Unusual, not unheard of.\", 'commentID': '25930059.0', 'commentSequence': '25930059.0', 'commentTitle': '<br/>', 'commentType': 'comment', 'createDate': '1518458548', 'depth': '1.0', 'editorsSelection': 'False', 'inReplyTo': '0', 'newDesk': 'Travel', 'parentID': '0.0', 'parentUserDisplayName': '', 'permID': '25930059', 'picURL': 'https://graphics8.nytimes.com/images/apps/timespeople/none.png', 'printPage': '5', 'recommendations': '0', 'recommendedFlag': '', 'replyCount': '0', 'reportAbuseFlag': '', 'sectionName': 'Unknown', 'sharing': '0', 'status': 'approved', 'timespeople': '1', 'trusted': '0', 'typeOfMaterial': 'News', 'updateDate': '1518469135', 'userDisplayName': 'Eyes Open', 'userID': '53167641.0', 'userLocation': 'San Francisco', 'userTitle': '', 'userURL': ''}\n",
      "25912292.0\n",
      "{'approveDate': '1518385379', 'articleID': '5a7101c110f40f00018be961', 'articleWordCount': '1322', 'commentBody': 'I don\\'t think this is really all that new: I was in Salvador, Brasil in August 2013.  There was an all female drumming group that performed near the Pelourinho that blew the crowd away with their energy and skill.  Perhaps it wasn\\'t \"Dida\" that I saw, but it was a large organized group of women drummers.', 'commentID': '25912292.0', 'commentSequence': '25912292.0', 'commentTitle': '<br/>', 'commentType': 'comment', 'createDate': '1518304930', 'depth': '1.0', 'editorsSelection': 'False', 'inReplyTo': '0', 'newDesk': 'Travel', 'parentID': '0.0', 'parentUserDisplayName': '', 'permID': '25912292', 'picURL': 'https://graphics8.nytimes.com/images/apps/timespeople/none.png', 'printPage': '5', 'recommendations': '1', 'recommendedFlag': '', 'replyCount': '1', 'reportAbuseFlag': '', 'sectionName': 'Unknown', 'sharing': '1', 'status': 'approved', 'timespeople': '1', 'trusted': '0', 'typeOfMaterial': 'News', 'updateDate': '1518385379', 'userDisplayName': 'Mark Pepp', 'userID': '44043675.0', 'userLocation': 'Chicago', 'userTitle': '', 'userURL': ''}\n",
      "25864174.0\n",
      "{'approveDate': '1517986719', 'articleID': '5a7101c110f40f00018be961', 'articleWordCount': '1322', 'commentBody': 'I was in Salvador last month and got to see Dida before attending the ballet show in pelourinho. THEY ARE AMAZING and I’m excited to return and go to one of their performances. I’ve always admired female drummers.', 'commentID': '25864174.0', 'commentSequence': '25864174.0', 'commentTitle': '<br/>', 'commentType': 'comment', 'createDate': '1517980671', 'depth': '1.0', 'editorsSelection': 'False', 'inReplyTo': '0', 'newDesk': 'Travel', 'parentID': '0.0', 'parentUserDisplayName': '', 'permID': '25864174', 'picURL': 'https://graphics8.nytimes.com/images/apps/timespeople/none.png', 'printPage': '5', 'recommendations': '0', 'recommendedFlag': '', 'replyCount': '0', 'reportAbuseFlag': '', 'sectionName': 'Unknown', 'sharing': '0', 'status': 'approved', 'timespeople': '0', 'trusted': '0', 'typeOfMaterial': 'News', 'updateDate': '1517986719', 'userDisplayName': 'Devonta', 'userID': '84748907.0', 'userLocation': 'New York, NY', 'userTitle': '', 'userURL': ''}\n",
      "25855991.0\n",
      "{'approveDate': '1517945037', 'articleID': '5a7101c110f40f00018be961', 'articleWordCount': '1322', 'commentBody': \"Why is it that men take it upon themselves to (try to) determine where and in what capacity women can exist?  Listen up men, we've had enough of your controlling behavior and we're not going to take it any more.  Time's up!\", 'commentID': '25855991.0', 'commentSequence': '25855991.0', 'commentTitle': '<br/>', 'commentType': 'comment', 'createDate': '1517938058', 'depth': '1.0', 'editorsSelection': 'False', 'inReplyTo': '0', 'newDesk': 'Travel', 'parentID': '0.0', 'parentUserDisplayName': '', 'permID': '25855991', 'picURL': 'https://graphics8.nytimes.com/images/apps/timespeople/none.png', 'printPage': '5', 'recommendations': '12', 'recommendedFlag': '', 'replyCount': '0', 'reportAbuseFlag': '', 'sectionName': 'Unknown', 'sharing': '0', 'status': 'approved', 'timespeople': '1', 'trusted': '0', 'typeOfMaterial': 'News', 'updateDate': '1517945037', 'userDisplayName': 'EDC', 'userID': '25854823.0', 'userLocation': 'Colorado', 'userTitle': '', 'userURL': ''}\n"
     ]
    }
   ],
   "source": [
    "count = 0\n",
    "for ID in comments:\n",
    "    print(ID)\n",
    "    print(comments[ID])\n",
    "    count +=1\n",
    "    if count==5:\n",
    "        break"
   ]
  },
  {
   "cell_type": "code",
   "execution_count": 11,
   "id": "506c3f95",
   "metadata": {},
   "outputs": [],
   "source": [
    "for commentID in comments:\n",
    "    articleID = comments[commentID][\"articleID\"] \n",
    "    if not \"num_comments\" in articles[articleID]:\n",
    "        articles[articleID][\"num_comments\"] = 1\n",
    "    else:\n",
    "        articles[articleID][\"num_comments\"] += 1\n",
    "\n"
   ]
  },
  {
   "cell_type": "code",
   "execution_count": 12,
   "id": "94456e5d",
   "metadata": {},
   "outputs": [
    {
     "name": "stdout",
     "output_type": "stream",
     "text": [
      "{'abstract': '', 'articleID': '5a7101c110f40f00018be961', 'articleWordCount': '1322', 'byline': 'By SHANNON SIMS', 'documentType': 'article', 'headline': 'Rhythm of the Streets: ‘We’re Warrior Women, and Yes, We Can Play’', 'keywords': \"['Bahia (Brazil)', 'Music', 'Women and Girls', 'Banda Dida (Music Group)', 'Drums', 'Carnival (Pre-Lenten)']\", 'multimedia': '68', 'newDesk': 'Travel', 'printPage': '5', 'pubDate': '2018-01-30 23:37:31', 'sectionName': 'Unknown', 'snippet': 'Meet the all-female Brazilian drum group that is challenging gender norms.', 'source': 'The New York Times', 'typeOfMaterial': 'News', 'webURL': 'https://www.nytimes.com/2018/01/30/travel/brazil-all-female-drums-bahia-banda-dida.html', 'num_comments': 25}\n",
      "{'abstract': '', 'articleID': '5a70fc1210f40f00018be950', 'articleWordCount': '1308', 'byline': 'By ALAN RAPPEPORT and THOMAS KAPLAN', 'documentType': 'article', 'headline': 'As Deficit Grows, Congress Keeps Spending', 'keywords': \"['United States Politics and Government', 'Federal Budget (US)', 'Federal Taxes (US)', 'National Debt (US)', 'Infrastructure (Public Works)', 'Trump, Donald J']\", 'multimedia': '68', 'newDesk': 'Washington', 'printPage': '17', 'pubDate': '2018-01-30 23:13:14', 'sectionName': 'Politics', 'snippet': 'Treasury Secretary Steven Mnuchin urged Congress to lift the debt ceiling as lawmakers embark on a spending spree.', 'source': 'The New York Times', 'typeOfMaterial': 'News', 'webURL': 'https://www.nytimes.com/2018/01/30/us/politics/federal-deficit-1-trillion.html', 'num_comments': 111}\n",
      "{'abstract': '', 'articleID': '5a70f8f810f40f00018be943', 'articleWordCount': '228', 'byline': 'By JANE LANG', 'documentType': 'article', 'headline': 'Lesson in Select Bus Service', 'keywords': \"['Buses', 'Pennsylvania Station (Manhattan, NY)', 'New York City']\", 'multimedia': '0', 'newDesk': 'Metro', 'printPage': '16', 'pubDate': '2018-01-30 23:00:01', 'sectionName': 'Unknown', 'snippet': 'A woman finds out what happens when you don’t pay your fare before boarding.', 'source': 'The New York Times', 'typeOfMaterial': 'News', 'webURL': 'https://www.nytimes.com/2018/01/30/nyregion/metropolitan-diary-lesson-in-select-bus-service.html', 'num_comments': 10}\n",
      "{'abstract': '', 'articleID': '5a70eb8110f40f00018be925', 'articleWordCount': '1114', 'byline': 'By THE EDITORIAL BOARD', 'documentType': 'article', 'headline': 'Here’s the Real State of the Union', 'keywords': \"['State of the Union Message (US)', 'Trump, Donald J', 'United States Politics and Government', 'United States International Relations']\", 'multimedia': '61', 'newDesk': 'Editorial', 'printPage': '24', 'pubDate': '2018-01-30 22:02:36', 'sectionName': 'Editorials', 'snippet': 'The reaction against his authoritarian impulses, assault on truth and cruelties great and petty has revealed abiding American strengths.', 'source': 'The New York Times', 'typeOfMaterial': 'Editorial', 'webURL': 'https://www.nytimes.com/2018/01/30/opinion/editorials/donald-trump-sotu-boasting.html', 'num_comments': 639}\n",
      "{'abstract': '', 'articleID': '5a70d1d210f40f00018be8d9', 'articleWordCount': '777', 'byline': 'By BERT STRATTON', 'documentType': 'article', 'headline': 'Good Riddance to Chief Wahoo', 'keywords': \"['Baseball', 'Cleveland Indians', 'Western Reserve Historical Society', 'Cleveland (Ohio)']\", 'multimedia': '68', 'newDesk': 'OpEd', 'printPage': '0', 'pubDate': '2018-01-30 20:13:01', 'sectionName': 'Unknown', 'snippet': 'I’ve lived in Cleveland all my life, and I’m glad to see the racist mascot go.', 'source': 'The New York Times', 'typeOfMaterial': 'Op-Ed', 'webURL': 'https://www.nytimes.com/2018/01/30/opinion/chief-wahoo-cleveland.html', 'num_comments': 80}\n"
     ]
    }
   ],
   "source": [
    "count = 0\n",
    "for ID in articles:\n",
    "    print(articles[ID])\n",
    "    count +=1\n",
    "    if count==5:\n",
    "        break"
   ]
  },
  {
   "cell_type": "code",
   "execution_count": 13,
   "id": "5c36cf97",
   "metadata": {},
   "outputs": [
    {
     "name": "stdout",
     "output_type": "stream",
     "text": [
      "640904\n",
      "{'articleID': '5aba12a547de81a901217c97', 'byline': 'By JOHN PAUL STEVENS', 'documentType': 'article', 'headline': 'Repeal the Second Amendment', 'keywords': \"['Gun Control', 'Second Amendment (US Constitution)', 'Law and Legislation', 'Supreme Court (US)']\", 'multimedia': '1', 'newDesk': 'OpEd', 'printPage': '23', 'pubDate': '2018-03-27 09:45:06', 'sectionName': 'Unknown', 'snippet': 'This weekend’s marches make it clear: To enact real gun control, we need to change the Constitution.', 'source': 'The New York Times', 'typeOfMaterial': 'Op-Ed', 'webURL': 'https://www.nytimes.com/2018/03/27/opinion/john-paul-stevens-repeal-second-amendment.html', 'articleWordCount': '539', 'num_comments': 2927}\n",
      "2927\n"
     ]
    }
   ],
   "source": [
    "total_comments = 0\n",
    "article_with_most_comments = {}\n",
    "maxnum = 0\n",
    "for articleID in articles:\n",
    "    total_comments += articles[articleID][\"num_comments\"]\n",
    "    if articles[articleID][\"num_comments\"] > maxnum:\n",
    "        maxnum = articles[articleID][\"num_comments\"]\n",
    "        article_with_most_comments = articles[articleID]\n",
    "print(total_comments)\n",
    "print(article_with_most_comments)\n",
    "print(maxnum)"
   ]
  },
  {
   "cell_type": "code",
   "execution_count": 77,
   "id": "85a55789",
   "metadata": {},
   "outputs": [
    {
     "name": "stdout",
     "output_type": "stream",
     "text": [
      "113089 users found\n",
      "83288014.0\n",
      "{'userTitle': '', 'location': 'Wilmington, NC'}\n",
      "53167641.0\n",
      "{'userTitle': '', 'location': 'San Francisco'}\n",
      "44043675.0\n",
      "{'userTitle': '', 'location': 'Chicago'}\n",
      "84748907.0\n",
      "{'userTitle': '', 'location': 'New York, NY'}\n",
      "25854823.0\n",
      "{'userTitle': '', 'location': 'Colorado'}\n",
      "37084925.0\n",
      "{'userTitle': '', 'location': 'Brasil'}\n",
      "5a7101c110f40f00018be961\n",
      "{'37084925.0', '36791354.0', '2734975.0', '43839882.0', '8953756.0', '53806807.0', '44043675.0', '84748907.0', '17660585.0', '83288014.0', '53167641.0', '76739035.0', '81222604.0', '78273096.0', '25854823.0', '49331282.0', '28180820.0', '27581854.0', '77964859.0', '76084824.0', '35080129.0', '30515740.0', '36234712.0'}\n",
      "5a70fc1210f40f00018be950\n",
      "{'49057690.0', '84656120.0', '62978371.0', '73849396.0', '830455.0', '69433294.0', '27822875.0', '76321569.0', '79300155.0', '34963770.0', '5161936.0', '49437764.0', '46829210.0', '62856899.0', '1378024.0', '79151495.0', '60025659.0', '6967505.0', '67820750.0', '66537945.0', '10664125.0', '77797451.0', '78690015.0', '82409470.0', '27920024.0', '57604197.0', '66854707.0', '58640953.0', '58228060.0', '30108860.0', '60946685.0', '11348361.0', '18601754.0', '50689048.0', '68061685.0', '65424785.0', '20300807.0', '10075513.0', '41855200.0', '2672128.0', '64940876.0', '78213899.0', '51905269.0', '67486466.0', '65673927.0', '54155350.0', '45635587.0', '77584963.0', '44499492.0', '77803960.0', '46314207.0', '66788641.0', '61747904.0', '26836128.0', '58766011.0', '59460227.0', '58364898.0', '45428638.0', '54688896.0', '7063142.0', '66171857.0', '83150051.0', '67521305.0', '79062182.0', '64889900.0', '42289376.0', '47524471.0', '77758506.0', '66997378.0', '17446666.0', '28023524.0', '60759452.0', '59017893.0', '51878992.0', '5050077.0', '21142372.0', '1582458.0', '50797.0', '25498264.0', '54544961.0', '56114092.0', '43828134.0', '47421523.0', '36876869.0', '65293544.0', '60810803.0', '51184641.0', '60407145.0', '48135215.0', '62401523.0', '69677914.0', '32171272.0', '47209588.0', '68938663.0', '1506197.0', '68752205.0', '65660272.0', '70764882.0', '26251732.0', '80565703.0'}\n",
      "5a70f8f810f40f00018be943\n",
      "{'22804326.0', '66562890.0', '13600770.0', '56200156.0', '14954564.0', '66605334.0', '67697721.0', '13110936.0', '8719272.0', '66565256.0'}\n",
      "5a70eb8110f40f00018be925\n",
      "{'61051574.0', '42231641.0', '77640573.0', '63160788.0', '69504255.0', '27029503.0', '57475904.0', '68088054.0', '66459538.0', '65351610.0', '63952964.0', '77697217.0', '22843988.0', '12336238.0', '44584185.0', '76945195.0', '12001710.0', '69095761.0', '67976153.0', '59811266.0', '64610545.0', '58531668.0', '57860429.0', '68586711.0', '64595365.0', '72378540.0', '51078065.0', '18561558.0', '78588003.0', '30484392.0', '17072050.0', '83543404.0', '58369910.0', '61630627.0', '41732403.0', '81426273.0', '61607320.0', '76277477.0', '57113514.0', '52099086.0', '65052023.0', '65061126.0', '73988402.0', '2396099.0', '471868.0', '60971606.0', '4952842.0', '28617892.0', '66788641.0', '67515048.0', '51692826.0', '76026459.0', '23628422.0', '74603787.0', '42128569.0', '34262318.0', '15422447.0', '51286647.0', '11941221.0', '72901884.0', '66286968.0', '21183296.0', '40255872.0', '46947258.0', '60553513.0', '80647322.0', '61915797.0', '41963297.0', '38189909.0', '61852274.0', '6352804.0', '75911032.0', '73649105.0', '60500778.0', '71029288.0', '69135137.0', '63292269.0', '76986632.0', '60930047.0', '72249878.0', '11228992.0', '17203869.0', '4501886.0', '13177667.0', '66012264.0', '48833015.0', '46950942.0', '65431352.0', '27421933.0', '42609600.0', '67725170.0', '62983605.0', '62147305.0', '57317897.0', '348588.0', '15040677.0', '60072706.0', '23688396.0', '76302852.0', '63104863.0', '23375417.0', '40651927.0', '69198202.0', '23397057.0', '74604008.0', '62464348.0', '65660108.0', '47123844.0', '7006450.0', '59900427.0', '18783318.0', '17374907.0', '56588248.0', '66732933.0', '50055345.0', '4009962.0', '63425643.0', '56889753.0', '67529055.0', '59309121.0', '54048801.0', '2073520.0', '2392360.0', '61663303.0', '65035652.0', '32195826.0', '57807638.0', '40324085.0', '60102799.0', '63464538.0', '66865645.0', '25473025.0', '18690270.0', '45074051.0', '44420772.0', '76315144.0', '69181997.0', '66367317.0', '56166904.0', '77279144.0', '64600216.0', '79191598.0', '84432993.0', '15785326.0', '51987649.0', '19853042.0', '73328607.0', '12886516.0', '26825267.0', '70063322.0', '58806381.0', '53777636.0', '48104835.0', '63030011.0', '71589404.0', '65213775.0', '48512160.0', '41815993.0', '5613034.0', '47026771.0', '78343265.0', '69089999.0', '66342136.0', '23784769.0', '71401138.0', '60579016.0', '51677946.0', '66021420.0', '66860175.0', '69548615.0', '3544810.0', '64814767.0', '52287224.0', '71659619.0', '58492566.0', '61397772.0', '57258082.0', '73795497.0', '57816904.0', '32083467.0', '74984756.0', '58245197.0', '65417582.0', '54852673.0', '69706696.0', '65955315.0', '69605656.0', '74695450.0', '66220779.0', '83447961.0', '28335044.0', '42319440.0', '60053415.0', '32790096.0', '3117356.0', '29296604.0', '26900165.0', '17593941.0', '63433384.0', '45430368.0', '60495805.0', '64318277.0', '69280534.0', '65581888.0', '73444633.0', '61700059.0', '62832863.0', '60275043.0', '38904373.0', '74566546.0', '45967952.0', '34228721.0', '3017681.0', '27053288.0', '64410714.0', '78961172.0', '48982278.0', '54699317.0', '47068332.0', '2011413.0', '49597195.0', '62488802.0', '71106007.0', '20258723.0', '17555430.0', '75939797.0', '76430734.0', '76258215.0', '4480177.0', '77073169.0', '68091633.0', '51087612.0', '62945206.0', '18709701.0', '30607067.0', '55195896.0', '66278695.0', '68686218.0', '20826384.0', '60025659.0', '149675.0', '38331232.0', '34881871.0', '20019851.0', '66768169.0', '5445464.0', '52666281.0', '46626973.0', '77117152.0', '62391980.0', '55359661.0', '73704097.0', '63754059.0', '30475035.0', '54943952.0', '5269826.0', '27148513.0', '63531792.0', '1166.0', '11936215.0', '78981018.0', '32716950.0', '64335844.0', '51305991.0', '67892453.0', '41304772.0', '46912294.0', '23740781.0', '48026298.0', '40118532.0', '56000381.0', '66138807.0', '51905269.0', '58837017.0', '57063446.0', '62121138.0', '27136809.0', '59460227.0', '56825716.0', '51485921.0', '73137363.0', '83337248.0', '60191297.0', '57027475.0', '69739789.0', '39700409.0', '52539234.0', '67398771.0', '73158615.0', '34556094.0', '4556346.0', '78157146.0', '69661037.0', '64753975.0', '3727307.0', '66291041.0', '61792215.0', '77898772.0', '58596490.0', '58410146.0', '82026130.0', '54544961.0', '51878992.0', '51180606.0', '52961579.0', '26455951.0', '57064175.0', '57633730.0', '17547424.0', '59738461.0', '66860261.0', '68197859.0', '36240346.0', '59490369.0', '31713359.0', '73227471.0', '62341522.0', '69412050.0', '6118141.0', '67856435.0', '77969594.0', '58554435.0', '9377208.0', '38422553.0', '817066.0', '74936774.0', '55665683.0', '28754129.0', '1017515.0', '41161428.0', '38365759.0', '70726176.0', '52968281.0', '15941542.0', '47231823.0', '65699826.0', '14956507.0', '40258121.0', '71299546.0', '72985638.0', '42572458.0', '60790181.0', '57742567.0', '84639186.0', '40246734.0', '56980510.0', '65599311.0', '48147869.0', '73620166.0', '12506940.0', '21936444.0', '58671272.0', '46684633.0', '47479200.0', '78845562.0', '73063246.0', '66746286.0', '50396067.0', '77423994.0', '75756905.0', '54131068.0', '47349721.0', '55364403.0', '67061170.0', '47348308.0', '71793465.0', '73498284.0', '60325512.0', '80820999.0', '34810170.0', '50978474.0', '79237310.0', '16090040.0', '65455323.0', '77812367.0', '48845483.0', '67004765.0', '67771344.0', '64527736.0', '68348980.0', '33241678.0', '78330730.0', '75948691.0', '77022453.0', '70564355.0', '20322449.0', '48042702.0', '6924902.0', '19186998.0', '76836787.0', '6098666.0', '63119682.0', '60248260.0', '76152568.0', '62801250.0', '54357050.0', '54543915.0', '50445209.0', '69509829.0', '65956507.0', '63448470.0', '25856594.0', '60211101.0', '80548680.0', '68800549.0', '47112177.0', '65923621.0', '57609397.0', '54095408.0', '56646145.0', '59962739.0', '67959319.0', '46900727.0', '59359375.0', '60909833.0', '68956083.0', '65326277.0', '25659974.0', '42434111.0', '10748247.0', '36129071.0', '13245116.0', '44287968.0', '57771928.0', '37823563.0', '34551346.0', '36608604.0', '29037973.0', '78744658.0', '10247138.0', '5311806.0', '60468609.0', '58861100.0', '77728357.0', '53978645.0', '20843044.0', '66332358.0', '63687177.0', '22003798.0', '30874529.0', '53701448.0', '66132747.0', '39126935.0', '58030595.0', '57715665.0', '32410781.0', '32171272.0', '4368539.0', '53221015.0', '78221510.0', '64679318.0', '57198434.0', '56754077.0', '26558523.0', '61121360.0', '57834468.0', '13901309.0', '26149859.0', '17274283.0', '22564987.0', '67916087.0'}\n",
      "5a70d1d210f40f00018be8d9\n",
      "{'11850223.0', '81802731.0', '65347022.0', '25873559.0', '8310385.0', '75770337.0', '3180703.0', '31003504.0', '64522806.0', '67997326.0', '65155394.0', '45607480.0', '68615865.0', '65990911.0', '65974261.0', '48878786.0', '66854707.0', '56740311.0', '65314466.0', '66223999.0', '65553328.0', '28441779.0', '19300451.0', '73928952.0', '74862861.0', '13086955.0', '43922971.0', '67931233.0', '64939991.0', '63446969.0', '15040677.0', '56878135.0', '76464408.0', '68890766.0', '53616761.0', '68085358.0', '4057582.0', '66138807.0', '66081966.0', '8879186.0', '51878992.0', '72450144.0', '964814.0', '57059900.0', '63140952.0', '21611172.0', '26891085.0', '13178540.0', '1608218.0', '26605787.0', '40955512.0', '74334942.0', '60180249.0', '80335885.0', '62573577.0'}\n",
      "5a70d1ad10f40f00018be8d8\n",
      "{'71714676.0', '54612460.0', '27120325.0', '6056247.0', '82778138.0', '45964482.0', '58364898.0', '64965991.0', '84658777.0', '82409470.0', '66266824.0', '41819792.0', '75750501.0', '84660480.0', '77369315.0', '72961932.0', '47683892.0', '60242243.0', '49405913.0', '56373426.0', '72433316.0', '66207720.0', '70604716.0', '53508667.0', '54326972.0', '60566242.0', '79006520.0', '80702173.0', '32142703.0', '23994784.0', '31594790.0', '58303694.0', '71709728.0', '76794305.0', '63510561.0', '72032426.0', '63582179.0', '4728964.0', '41847830.0', '84658147.0', '79779699.0', '50711166.0', '2131401.0', '60528950.0', '63622562.0', '15802128.0', '78732199.0', '63794670.0', '54343650.0', '62547744.0', '79843240.0', '60898199.0', '55663429.0', '69956494.0', '9747977.0', '82670282.0', '74750314.0'}\n"
     ]
    }
   ],
   "source": [
    "articles_to_commenters = {articles[ID][\"articleID\"]:set({}) for ID in articles}\n",
    "users = {}\n",
    "for ID in comments:\n",
    "    articleID = comments[ID][\"articleID\"]\n",
    "    userID = comments[ID][\"userID\"]\n",
    "    userTitle  = \"unknown\"\n",
    "    userLocation = \"unknown\"\n",
    "    if \"userTitle\" in comments[ID].keys():\n",
    "        userTitle = comments[ID][\"userTitle\"]\n",
    "    if \"userLocation\" in comments[ID].keys():\n",
    "        userLocation = comments[ID][\"userLocation\"]\n",
    "        \n",
    "    users[userID] = {\"userTitle\":userTitle, \"location\":userLocation}    \n",
    "    articles_to_commenters[articleID].add(userID)\n",
    "    \n",
    "\n",
    "    \n",
    "print(f'{len(users)} users found')\n",
    "\n",
    "for i, ID in enumerate(users):\n",
    "    print(ID)\n",
    "    print(users[ID])\n",
    "    if i==5:\n",
    "        break\n",
    "\n",
    "for i, ID in enumerate(articles_to_commenters):\n",
    "    print(ID)\n",
    "    print(articles_to_commenters[ID])\n",
    "    if i==5:\n",
    "        break"
   ]
  },
  {
   "cell_type": "code",
   "execution_count": 100,
   "id": "d8c71dac",
   "metadata": {},
   "outputs": [
    {
     "name": "stdout",
     "output_type": "stream",
     "text": [
      "loaded users from users.pickle..\n",
      "113089\n"
     ]
    }
   ],
   "source": [
    "files = os.listdir()\n",
    "if not \"users.pickle\" in files:\n",
    "    with open('users.pickle', 'wb') as f:\n",
    "        print(\"dumping users into users.pickle....\")\n",
    "        pickle.dump(users, f)\n",
    "else:\n",
    "    with open(\"users.pickle\", \"rb\") as f:\n",
    "        print(\"loaded users from users.pickle..\")\n",
    "        users = pickle.load(f)\n",
    "print(len(users))"
   ]
  },
  {
   "cell_type": "code",
   "execution_count": 102,
   "id": "e38607cd",
   "metadata": {},
   "outputs": [
    {
     "name": "stdout",
     "output_type": "stream",
     "text": [
      "loaded articles_to_commenters from articles_to_commenters.pickle..\n",
      "3445\n"
     ]
    }
   ],
   "source": [
    "files = os.listdir()\n",
    "if not \"articles_to_commenters.pickle\" in files:\n",
    "    with open('articles_to_commenters.pickle', 'wb') as f:\n",
    "        print(\"dumping articles_to_commenters into articles_to_commenters.pickle....\")\n",
    "        pickle.dump(articles_to_commenters, f)\n",
    "else:\n",
    "    with open(\"articles_to_commenters.pickle\", \"rb\") as f:\n",
    "        print(\"loaded articles_to_commenters from articles_to_commenters.pickle..\")\n",
    "        articles_to_commenters = pickle.load(f)\n",
    "print(len(articles_to_commenters))"
   ]
  },
  {
   "cell_type": "code",
   "execution_count": 85,
   "id": "9c175dc2",
   "metadata": {},
   "outputs": [
    {
     "data": {
      "text/plain": [
       "Hypergraph({'a': Entity(a,[1, 2],{'weight': 1.0}), 'b': Entity(b,[2, 3],{'weight': 1.0})},name=)"
      ]
     },
     "execution_count": 85,
     "metadata": {},
     "output_type": "execute_result"
    }
   ],
   "source": [
    "a = hnx.Entity('a',{1,2})\n",
    "b = hnx.Entity('b',{2,3})\n",
    "E = hnx.EntitySet('sample',elements=[a,b])\n",
    "H =hnx.Hypergraph(E)\n",
    "hnx.Hypergraph(E)\n",
    "\n"
   ]
  },
  {
   "cell_type": "code",
   "execution_count": 86,
   "id": "69cc96ae",
   "metadata": {},
   "outputs": [
    {
     "data": {
      "text/plain": [
       "EntitySet(:Edges,['a', 'b'],{'weight': 1.0})"
      ]
     },
     "execution_count": 86,
     "metadata": {},
     "output_type": "execute_result"
    }
   ],
   "source": [
    "hnx.Hypergraph(E).edges"
   ]
  },
  {
   "cell_type": "code",
   "execution_count": 87,
   "id": "92f2463f",
   "metadata": {
    "scrolled": true
   },
   "outputs": [
    {
     "data": {
      "image/png": "[encoded data removed]",
      "text/plain": [
       "<Figure size 576x576 with 1 Axes>"
      ]
     },
     "metadata": {
      "needs_background": "light"
     },
     "output_type": "display_data"
    }
   ],
   "source": [
    "hnx.drawing.rubber_band.draw(H)"
   ]
  },
  {
   "cell_type": "code",
   "execution_count": 103,
   "id": "3b845f81",
   "metadata": {},
   "outputs": [],
   "source": [
    "entities = []\n",
    "for articleID in articles_to_commenters:\n",
    "    entities.append(hnx.Entity(articleID,articles_to_commenters[articleID]))\n",
    "    \n",
    "E = hnx.EntitySet('articles_commenters',elements=entities)\n",
    "H = hnx.Hypergraph(E,static=True)"
   ]
  },
  {
   "cell_type": "code",
   "execution_count": 113,
   "id": "b38ddda2",
   "metadata": {},
   "outputs": [],
   "source": [
    "linegraph = H.get_linegraph(1, edges=True, use_nwhy=True)"
   ]
  },
  {
   "cell_type": "code",
   "execution_count": 122,
   "id": "abf5409d",
   "metadata": {},
   "outputs": [
    {
     "data": {
      "image/png": "[encoded data removed]",
      "text/plain": [
       "<Figure size 576x576 with 1 Axes>"
      ]
     },
     "metadata": {},
     "output_type": "display_data"
    }
   ],
   "source": [
    "# hnx.drawing.rubber_band.draw(H)\n",
    "nx.draw(linegraph,with_labels = True)"
   ]
  },
  {
   "cell_type": "code",
   "execution_count": 120,
   "id": "64431f85",
   "metadata": {},
   "outputs": [
    {
     "name": "stdout",
     "output_type": "stream",
     "text": [
      "[(0, 18), (0, 19), (0, 42), (0, 46), (0, 47), (0, 48), (0, 50), (0, 54), (0, 59), (0, 71), (0, 88), (0, 91), (0, 92), (0, 101), (0, 103), (0, 111), (0, 117), (0, 118), (0, 123), (0, 126), (0, 142), (0, 162), (0, 163), (0, 170), (0, 174), (0, 185), (0, 189), (0, 193), (0, 199), (0, 200), (0, 201), (0, 210), (0, 212), (0, 235), (0, 238), (0, 239), (0, 253), (0, 258), (0, 268), (0, 290), (0, 300), (0, 308), (0, 328), (0, 329), (0, 338), (0, 341), (0, 356), (0, 361), (0, 370), (0, 378), (0, 383), (0, 386), (0, 389), (0, 406), (0, 410), (0, 415), (0, 419), (0, 424), (0, 444), (0, 448), (0, 450), (0, 455), (0, 470), (0, 475), (0, 489), (0, 498), (0, 499), (0, 511), (0, 518), (0, 527), (0, 529), (0, 530), (0, 532), (0, 533), (0, 548), (0, 554), (0, 564), (0, 568), (0, 572), (0, 574), (0, 577), (0, 588), (0, 590), (0, 593), (0, 610), (0, 635), (0, 652), (0, 671), (0, 689), (0, 692), (0, 705), (0, 710), (0, 723), (0, 725), (0, 728), (0, 730), (0, 775), (0, 782), (0, 793), (0, 798), (0, 802), (0, 833), (0, 839), (0, 846), (0, 850), (0, 853), (0, 860), (0, 877), (0, 895), (0, 901), (0, 906), (0, 910), (0, 924), (0, 943), (0, 950), (0, 967), (0, 969), (0, 973), (0, 986), (0, 987), (0, 992), (0, 993), (0, 1006), (0, 1008), (0, 1017), (0, 1020), (0, 1027), (0, 1029), (0, 1031), (0, 1038), (0, 1039), (0, 1049), (0, 1050), (0, 1054), (0, 1057), (0, 1063), (0, 1071), (0, 1077), (0, 1080), (0, 1082), (0, 1088), (0, 1092), (0, 1103), (0, 1108), (0, 1119), (0, 1129), (0, 1134), (0, 1140), (0, 1146), (0, 1155), (0, 1157), (0, 1160), (0, 1161), (0, 1164), (0, 1187), (0, 1194), (0, 1200), (0, 1202), (0, 1203), (0, 1207), (0, 1211), (0, 1218), (0, 1221), (0, 1233), (0, 1235), (0, 1254), (0, 1265), (0, 1274), (0, 1275), (0, 1277), (0, 1307), (0, 1312), (0, 1317), (0, 1319), (0, 1322), (0, 1343), (0, 1351), (0, 1354), (0, 1361), (0, 1363), (0, 1372), (0, 1379), (0, 1389), (0, 1390), (0, 1391), (0, 1399), (0, 1405), (0, 1431), (0, 1449), (0, 1453), (0, 1458), (0, 1470), (0, 1475), (0, 1476), (0, 1488), (0, 1498), (0, 1499), (0, 1509), (0, 1510), (0, 1517), (0, 1522), (0, 1524), (0, 1531), (0, 1532), (0, 1542), (0, 1551), (0, 1564), (0, 1570), (0, 1582), (0, 1592), (0, 1598), (0, 1627), (0, 1648), (0, 1651), (0, 1659), (0, 1684), (0, 1702), (0, 1723), (0, 1732), (0, 1758), (0, 1778), (0, 1781), (0, 1805), (0, 1826), (0, 1830), (0, 1833), (0, 1839), (0, 1852), (0, 1856), (0, 1859), (0, 1899), (0, 1905), (0, 1923), (0, 1934), (0, 1972), (0, 1976), (0, 1979), (0, 1999), (0, 2000), (0, 2008), (0, 2019), (0, 2028), (0, 2030), (0, 2040), (0, 2062), (0, 2083), (0, 2091), (0, 2099), (0, 2108), (0, 2114), (0, 2121), (0, 2134), (0, 2139), (0, 2141), (0, 2142), (0, 2143), (0, 2149), (0, 2155), (0, 2186), (0, 2188), (0, 2213), (0, 2219), (0, 2220), (0, 2224), (0, 2226), (0, 2229), (0, 2238), (0, 2274), (0, 2310), (0, 2315), (0, 2319), (0, 2323), (0, 2324), (0, 2331), (0, 2342), (0, 2359), (0, 2393), (0, 2394), (0, 2425), (0, 2479), (0, 2488), (0, 2508), (0, 2509), (0, 2523), (0, 2541), (0, 2546), (0, 2555), (0, 2566), (0, 2567), (0, 2587), (0, 2593), (0, 2598), (0, 2601), (0, 2613), (0, 2639), (0, 2654), (0, 2664), (0, 2667), (0, 2725), (0, 2727), (0, 2734), (0, 2738), (0, 2740), (0, 2754), (0, 2766), (0, 2768), (0, 2769), (0, 2791), (0, 2803), (0, 2808), (0, 2817), (0, 2823), (0, 2827), (0, 2837), (0, 2840), (0, 2851), (0, 2859), (0, 2874), (0, 2877), (0, 2878), (0, 2879), (0, 2882), (0, 2888), (0, 2931), (0, 2933), (0, 2938), (0, 2947), (0, 2951), (0, 2952), (0, 2987), (0, 2989), (0, 2991), (0, 2992), (0, 2996), (0, 2999), (0, 3000), (0, 3025), (0, 3034), (0, 3044), (0, 3053), (0, 3054), (0, 3056), (0, 3060), (0, 3088), (0, 3092), (0, 3094), (0, 3098), (0, 3109), (0, 3122), (0, 3124), (0, 3126), (0, 3130), (0, 3136), (0, 3137), (0, 3138), (0, 3144), (0, 3158), (0, 3159), (0, 3168), (0, 3178), (0, 3192), (0, 3204), (0, 3233), (0, 3238), (0, 3240), (0, 3251), (0, 3252), (0, 3258), (0, 3278), (0, 3291), (0, 3292), (0, 3293), (0, 3304), (0, 3307), (0, 3339), (0, 3341), (0, 3367), (0, 3372), (0, 3377), (0, 3386), (0, 3422), (0, 3431), (0, 3436), (1, 3), (1, 4), (1, 5), (1, 6), (1, 10), (1, 11), (1, 13), (1, 15), (1, 16), (1, 18), (1, 19), (1, 20), (1, 21), (1, 23), (1, 25), (1, 26), (1, 27), (1, 32), (1, 38), (1, 41), (1, 43), (1, 44), (1, 45), (1, 46), (1, 47), (1, 48), (1, 49), (1, 50), (1, 51), (1, 54), (1, 55), (1, 58), (1, 59), (1, 61), (1, 62), (1, 64), (1, 65), (1, 69), (1, 73), (1, 74), (1, 75), (1, 79), (1, 81), (1, 83), (1, 88), (1, 89), (1, 90), (1, 91), (1, 92), (1, 94), (1, 95), (1, 98), (1, 101), (1, 102), (1, 103), (1, 104), (1, 105), (1, 106), (1, 107), (1, 110), (1, 111), (1, 112), (1, 113), (1, 114), (1, 118), (1, 119), (1, 122), (1, 123), (1, 124), (1, 125), (1, 126), (1, 127), (1, 128), (1, 130), (1, 134), (1, 135), (1, 137), (1, 140), (1, 141), (1, 142), (1, 144), (1, 145), (1, 148), (1, 150), (1, 153), (1, 156), (1, 160), (1, 161), (1, 162), (1, 163), (1, 166), (1, 170), (1, 171), (1, 173), (1, 174), (1, 175), (1, 181), (1, 184), (1, 185), (1, 189), (1, 199), (1, 200), (1, 201), (1, 204), (1, 205), (1, 207), (1, 210), (1, 211), (1, 212), (1, 214), (1, 216), (1, 217), (1, 219), (1, 223), (1, 224), (1, 237), (1, 238), (1, 242), (1, 244), (1, 245), (1, 253), (1, 254), (1, 255), (1, 256), (1, 257), (1, 259), (1, 260), (1, 261), (1, 262), (1, 263), (1, 264), (1, 265), (1, 270), (1, 271), (1, 273), (1, 274), (1, 275), (1, 276), (1, 277), (1, 279), (1, 281), (1, 282), (1, 283), (1, 285), (1, 290), (1, 291), (1, 300), (1, 301), (1, 304), (1, 307), (1, 308), (1, 311), (1, 312), (1, 313), (1, 314), (1, 315), (1, 318), (1, 319), (1, 320), (1, 321), (1, 322), (1, 323), (1, 324), (1, 325), (1, 326), (1, 328), (1, 329), (1, 331), (1, 335), (1, 338), (1, 339), (1, 340), (1, 341), (1, 342), (1, 343), (1, 344), (1, 345), (1, 347), (1, 349), (1, 350), (1, 353), (1, 355), (1, 357), (1, 359), (1, 360), (1, 361), (1, 362), (1, 367), (1, 370), (1, 375), (1, 378), (1, 379), (1, 380), (1, 381), (1, 382), (1, 383), (1, 385), (1, 386), (1, 387), (1, 390), (1, 393), (1, 394), (1, 395), (1, 400), (1, 402), (1, 403), (1, 406), (1, 408), (1, 411), (1, 413), (1, 415), (1, 422), (1, 424), (1, 425), (1, 427), (1, 428), (1, 429), (1, 433), (1, 434), (1, 437), (1, 440), (1, 446), (1, 448), (1, 449), (1, 450), (1, 451), (1, 452), (1, 453), (1, 454), (1, 455), (1, 456), (1, 459), (1, 461), (1, 462), (1, 463), (1, 468), (1, 469), (1, 470), (1, 473), (1, 475), (1, 476), (1, 477), (1, 480), (1, 487), (1, 488), (1, 489), (1, 490), (1, 491), (1, 493), (1, 494), (1, 495), (1, 499), (1, 502), (1, 503), (1, 504), (1, 506), (1, 507), (1, 509), (1, 511), (1, 515), (1, 523), (1, 525), (1, 526), (1, 527), (1, 528), (1, 529), (1, 530), (1, 531), (1, 532), (1, 533), (1, 536), (1, 537), (1, 538), (1, 540), (1, 541), (1, 542), (1, 544), (1, 548), (1, 552), (1, 554), (1, 555), (1, 556), (1, 557), (1, 558), (1, 559), (1, 560), (1, 561), (1, 565), (1, 568), (1, 569), (1, 572), (1, 573), (1, 574), (1, 576), (1, 577), (1, 578), (1, 579), (1, 582), (1, 586), (1, 587), (1, 588), (1, 589), (1, 590), (1, 592), (1, 593), (1, 595), (1, 599), (1, 601), (1, 604), (1, 605), (1, 606), (1, 607), (1, 610), (1, 611), (1, 613), (1, 616), (1, 618), (1, 620), (1, 626), (1, 628), (1, 629), (1, 630), (1, 632), (1, 633), (1, 635), (1, 638), (1, 639), (1, 642), (1, 644), (1, 646), (1, 649), (1, 651), (1, 652), (1, 654), (1, 658), (1, 659), (1, 660), (1, 662), (1, 666), (1, 670), (1, 671), (1, 672), (1, 674), (1, 675), (1, 682), (1, 686), (1, 687), (1, 689), (1, 690), (1, 691), (1, 692), (1, 695), (1, 697), (1, 698), (1, 700), (1, 705), (1, 706), (1, 707), (1, 710), (1, 714), (1, 719), (1, 722), (1, 723), (1, 724), (1, 725), (1, 728), (1, 729), (1, 730), (1, 731), (1, 732), (1, 733), (1, 735), (1, 739), (1, 741), (1, 743), (1, 748), (1, 749), (1, 750), (1, 756), (1, 757), (1, 761), (1, 766), (1, 768), (1, 769), (1, 770), (1, 771), (1, 773), (1, 774), (1, 775), (1, 777), (1, 778), (1, 779), (1, 781), (1, 782), (1, 783), (1, 784), (1, 785), (1, 786), (1, 788), (1, 791), (1, 793), (1, 796), (1, 800), (1, 801), (1, 802), (1, 803), (1, 804), (1, 809), (1, 811), (1, 812), (1, 820), (1, 821), (1, 823), (1, 826), (1, 827), (1, 830), (1, 831), (1, 832), (1, 833), (1, 834), (1, 835), (1, 837), (1, 839), (1, 840), (1, 842), (1, 845), (1, 846), (1, 853), (1, 854), (1, 859), (1, 860), (1, 862), (1, 863), (1, 864), (1, 865), (1, 866), (1, 870), (1, 871), (1, 872), (1, 873), (1, 876), (1, 877), (1, 879), (1, 880), (1, 881), (1, 884), (1, 886), (1, 887), (1, 889), (1, 891), (1, 893), (1, 895), (1, 896), (1, 899), (1, 901), (1, 902), (1, 905), (1, 906), (1, 909), (1, 910), (1, 911), (1, 914), (1, 917), (1, 922), (1, 924), (1, 925), (1, 928), (1, 929), (1, 931), (1, 935), (1, 937), (1, 939), (1, 943), (1, 944), (1, 947), (1, 948), (1, 950), (1, 953), (1, 954), (1, 958), (1, 960), (1, 965), (1, 966), (1, 967), (1, 968), (1, 969), (1, 972), (1, 973), (1, 974), (1, 984), (1, 987), (1, 991), (1, 992), (1, 993), (1, 994), (1, 996), (1, 998), (1, 1002), (1, 1006), (1, 1008), (1, 1013), (1, 1016), (1, 1017), (1, 1019), (1, 1020), (1, 1021), (1, 1024), (1, 1025), (1, 1027), (1, 1028), (1, 1029), (1, 1031), (1, 1034), (1, 1036), (1, 1037), (1, 1038), (1, 1039), (1, 1042), (1, 1044), (1, 1045), (1, 1046), (1, 1049), (1, 1050), (1, 1051), (1, 1054), (1, 1055), (1, 1056), (1, 1057), (1, 1059), (1, 1060), (1, 1061), (1, 1063), (1, 1064), (1, 1069), (1, 1070), (1, 1071), (1, 1075), (1, 1076), (1, 1080), (1, 1081), (1, 1082), (1, 1084), (1, 1086), (1, 1088), (1, 1090), (1, 1092), (1, 1095), (1, 1096), (1, 1097), (1, 1098), (1, 1100), (1, 1101), (1, 1102), (1, 1103), (1, 1104), (1, 1109), (1, 1110), (1, 1111), (1, 1118), (1, 1119), (1, 1122), (1, 1128), (1, 1131), (1, 1135), (1, 1136), (1, 1137), (1, 1138), (1, 1140), (1, 1142), (1, 1143), (1, 1146), (1, 1148), (1, 1149), (1, 1151), (1, 1152), (1, 1155), (1, 1157), (1, 1159), (1, 1160), (1, 1161), (1, 1162), (1, 1163), (1, 1166), (1, 1169), (1, 1171), (1, 1177), (1, 1178), (1, 1180), (1, 1183), (1, 1184), (1, 1185), (1, 1188), (1, 1190), (1, 1191), (1, 1193), (1, 1194), (1, 1199), (1, 1200), (1, 1202), (1, 1203), (1, 1205), (1, 1207), (1, 1211), (1, 1213), (1, 1215), (1, 1216), (1, 1217), (1, 1218), (1, 1219), (1, 1220), (1, 1221), (1, 1231), (1, 1234), (1, 1237), (1, 1238), (1, 1239), (1, 1241)]\n"
     ]
    }
   ],
   "source": [
    "edges = list(linegraph.edges)\n",
    "print(edges[0:1000])"
   ]
  },
  {
   "cell_type": "code",
   "execution_count": 146,
   "id": "93ca9652",
   "metadata": {},
   "outputs": [
    {
     "name": "stdout",
     "output_type": "stream",
     "text": [
      "article:5a6a298810f40f00018bdbb5, snippet:Our favorite student comments from last week, and an invitation to join the conversation this week., commenter: {'58793746.0'}\n",
      "article:5a66332410f40f00018bd34d, snippet:Women who have had gestational diabetes have an increased risk not only for Type 2 diabetes later in life, but for heart disease and hypertension as well., commenter: {'84408411.0'}\n",
      "article:5a55f6bd7c459f29e79b32d6, snippet:The foreign policy adviser to the Trump campaign drew the attention of the F.B.I. But he differs greatly from other figures in the Trump-Russia story., commenter: {'67627862.0'}\n",
      "article:5a83fa9710f40f00018c0e3b, snippet:What is strikingly different, and significant, about the official likenesses of Barack and Michelle Obama?, commenter: {'73404572.0'}\n",
      "article:5a8c01cf10f40f00018c1f11, snippet:Four American soldiers were ambushed by militants in a remote desert in Niger in October. It was all part of a shadowy war going back to the attacks of Sept. 11, 2001., commenter: {'66265710.0'}\n",
      "article:5aa16e29410cf7000162f41d, snippet:While looking closely at an intriguing photograph, students learn how to create a claim and support that claim with evidence., commenter: {'74267784.0'}\n"
     ]
    }
   ],
   "source": [
    "articles_one_commenter = [167, 1480,2408,1717,414,702]\n",
    "for i, ID in enumerate(articles_to_commenters):\n",
    "    if i in articles_one_commenter:\n",
    "        print(f'article:{ID}, snippet:{articles[ID][\"snippet\"]}, commenter: {articles_to_commenters[ID]}')"
   ]
  },
  {
   "cell_type": "code",
   "execution_count": null,
   "id": "9340b5b4",
   "metadata": {},
   "outputs": [],
   "source": []
  }
 ],
 "metadata": {
  "kernelspec": {
   "display_name": "Python 3 (ipykernel)",
   "language": "python",
   "name": "python3"
  },
  "language_info": {
   "codemirror_mode": {
    "name": "ipython",
    "version": 3
   },
   "file_extension": ".py",
   "mimetype": "text/x-python",
   "name": "python",
   "nbconvert_exporter": "python",
   "pygments_lexer": "ipython3",
   "version": "3.9.12"
  }
 },
 "nbformat": 4,
 "nbformat_minor": 5
}
