{
 "cells": [
  {
   "cell_type": "code",
   "execution_count": 1,
   "id": "f7cbd428",
   "metadata": {},
   "outputs": [],
   "source": [
    "import nwhy\n",
    "import os\n",
    "import numpy as np\n",
    "import csv"
   ]
  },
  {
   "cell_type": "code",
   "execution_count": 2,
   "id": "45e8de99",
   "metadata": {},
   "outputs": [],
   "source": [
    "path = r'/mnt/c/pythonProjects/591-newyork-times/archive'"
   ]
  },
  {
   "cell_type": "code",
   "execution_count": 3,
   "id": "ea5230d5",
   "metadata": {},
   "outputs": [
    {
     "name": "stdout",
     "output_type": "stream",
     "text": [
      "['ArticlesApril2017.csv', 'ArticlesApril2018.csv', 'ArticlesFeb2017.csv', 'ArticlesFeb2018.csv', 'ArticlesJan2017.csv', 'ArticlesJan2018.csv', 'ArticlesMarch2017.csv', 'ArticlesMarch2018.csv', 'ArticlesMay2017.csv', 'CommentsApril2017.csv', 'CommentsApril2018.csv', 'CommentsFeb2017.csv', 'CommentsFeb2018.csv', 'CommentsJan2017.csv', 'CommentsJan2018.csv', 'CommentsMarch2017.csv', 'CommentsMarch2018.csv', 'CommentsMay2017.csv']\n"
     ]
    }
   ],
   "source": [
    "print(os.listdir(path))"
   ]
  },
  {
   "cell_type": "code",
   "execution_count": 77,
   "id": "7c153513",
   "metadata": {},
   "outputs": [
    {
     "name": "stdout",
     "output_type": "stream",
     "text": [
      "['/mnt/c/pythonProjects/591-newyork-times/archive/ArticlesJan2018.csv', '/mnt/c/pythonProjects/591-newyork-times/archive/ArticlesFeb2018.csv', '/mnt/c/pythonProjects/591-newyork-times/archive/ArticlesMarch2018.csv']\n",
      "['/mnt/c/pythonProjects/591-newyork-times/archive/CommentsJan2018.csv', '/mnt/c/pythonProjects/591-newyork-times/archive/CommentsFeb2018.csv', '/mnt/c/pythonProjects/591-newyork-times/archive/CommentsMarch2018.csv']\n"
     ]
    }
   ],
   "source": [
    "paths_articles = []\n",
    "paths_comments = []\n",
    "\n",
    "articles_file_path_jan = path + '/' +'ArticlesJan2018.csv'\n",
    "paths_articles.append(articles_file_path_jan)\n",
    "comments_file_path_jan = path + '/' + 'CommentsJan2018.csv'\n",
    "paths_comments.append(comments_file_path_jan)\n",
    "\n",
    "articles_file_path_feb = path + '/' +'ArticlesFeb2018.csv'\n",
    "paths_articles.append(articles_file_path_feb)\n",
    "comments_file_path_feb = path + '/' + 'CommentsFeb2018.csv'\n",
    "paths_comments.append(comments_file_path_feb)\n",
    "\n",
    "\n",
    "articles_file_path_march = path + '/' +'ArticlesMarch2018.csv'\n",
    "paths_articles.append(articles_file_path_march)\n",
    "comments_file_path_march = path + '/' + 'CommentsMarch2018.csv'\n",
    "paths_comments.append(comments_file_path_march)\n",
    "\n",
    "articles_file_path_april = path + '/' +'ArticlesApril2018.csv'\n",
    "# paths_articles.append(articles_file_path_april)\n",
    "comments_file_path_april = path + '/' + 'CommentsApril2018.csv'\n",
    "# paths_comments.append(comments_file_path_april)\n",
    "\n",
    "print(paths_articles)\n",
    "print(paths_comments)"
   ]
  },
  {
   "cell_type": "code",
   "execution_count": 78,
   "id": "2280f393",
   "metadata": {},
   "outputs": [],
   "source": [
    "def createDictionary(array_of_dictionaries):\n",
    "    dictionary = array_of_dictionaries[0]\n",
    "    for i in range(1, len(array_of_dictionaries)):\n",
    "        dictionary.update(array_of_dictionaries[i])\n",
    "    return dictionary\n",
    "        "
   ]
  },
  {
   "cell_type": "code",
   "execution_count": 109,
   "id": "192fec94",
   "metadata": {},
   "outputs": [
    {
     "name": "stdout",
     "output_type": "stream",
     "text": [
      "3445\n",
      "3445\n"
     ]
    }
   ],
   "source": [
    "articles  = {}\n",
    "count = 0\n",
    "for articles_file_path in paths_articles:\n",
    "\n",
    "    with open(articles_file_path, \"r\",encoding=\"utf-8\",newline=\"\") as f:\n",
    "        csv_reader = csv.reader(f, delimiter=\",\")\n",
    "        header = next(csv_reader)\n",
    "        record = [{field:None} for field in header]\n",
    "        index = 0\n",
    "        for i,item in enumerate(record):\n",
    "            if(list(item.keys())[0]) == \"articleID\":\n",
    "                index =i\n",
    "        for row in csv_reader:\n",
    "            record = [{field:None} for field in header]\n",
    "            for i, item in enumerate(row):\n",
    "                record[i][list(record[i].keys())[0]] = item\n",
    "            articles[row[index]]= createDictionary(record)\n",
    "            count += 1\n",
    "print(count)\n",
    "print(len(articles))"
   ]
  },
  {
   "cell_type": "code",
   "execution_count": 110,
   "id": "8a8eb7cc",
   "metadata": {},
   "outputs": [
    {
     "name": "stdout",
     "output_type": "stream",
     "text": [
      "{'abstract': '', 'articleID': '5a7101c110f40f00018be961', 'articleWordCount': '1322', 'byline': 'By SHANNON SIMS', 'documentType': 'article', 'headline': 'Rhythm of the Streets: ‘We’re Warrior Women, and Yes, We Can Play’', 'keywords': \"['Bahia (Brazil)', 'Music', 'Women and Girls', 'Banda Dida (Music Group)', 'Drums', 'Carnival (Pre-Lenten)']\", 'multimedia': '68', 'newDesk': 'Travel', 'printPage': '5', 'pubDate': '2018-01-30 23:37:31', 'sectionName': 'Unknown', 'snippet': 'Meet the all-female Brazilian drum group that is challenging gender norms.', 'source': 'The New York Times', 'typeOfMaterial': 'News', 'webURL': 'https://www.nytimes.com/2018/01/30/travel/brazil-all-female-drums-bahia-banda-dida.html'}\n",
      "{'abstract': '', 'articleID': '5a70fc1210f40f00018be950', 'articleWordCount': '1308', 'byline': 'By ALAN RAPPEPORT and THOMAS KAPLAN', 'documentType': 'article', 'headline': 'As Deficit Grows, Congress Keeps Spending', 'keywords': \"['United States Politics and Government', 'Federal Budget (US)', 'Federal Taxes (US)', 'National Debt (US)', 'Infrastructure (Public Works)', 'Trump, Donald J']\", 'multimedia': '68', 'newDesk': 'Washington', 'printPage': '17', 'pubDate': '2018-01-30 23:13:14', 'sectionName': 'Politics', 'snippet': 'Treasury Secretary Steven Mnuchin urged Congress to lift the debt ceiling as lawmakers embark on a spending spree.', 'source': 'The New York Times', 'typeOfMaterial': 'News', 'webURL': 'https://www.nytimes.com/2018/01/30/us/politics/federal-deficit-1-trillion.html'}\n",
      "{'abstract': '', 'articleID': '5a70f8f810f40f00018be943', 'articleWordCount': '228', 'byline': 'By JANE LANG', 'documentType': 'article', 'headline': 'Lesson in Select Bus Service', 'keywords': \"['Buses', 'Pennsylvania Station (Manhattan, NY)', 'New York City']\", 'multimedia': '0', 'newDesk': 'Metro', 'printPage': '16', 'pubDate': '2018-01-30 23:00:01', 'sectionName': 'Unknown', 'snippet': 'A woman finds out what happens when you don’t pay your fare before boarding.', 'source': 'The New York Times', 'typeOfMaterial': 'News', 'webURL': 'https://www.nytimes.com/2018/01/30/nyregion/metropolitan-diary-lesson-in-select-bus-service.html'}\n",
      "{'abstract': '', 'articleID': '5a70eb8110f40f00018be925', 'articleWordCount': '1114', 'byline': 'By THE EDITORIAL BOARD', 'documentType': 'article', 'headline': 'Here’s the Real State of the Union', 'keywords': \"['State of the Union Message (US)', 'Trump, Donald J', 'United States Politics and Government', 'United States International Relations']\", 'multimedia': '61', 'newDesk': 'Editorial', 'printPage': '24', 'pubDate': '2018-01-30 22:02:36', 'sectionName': 'Editorials', 'snippet': 'The reaction against his authoritarian impulses, assault on truth and cruelties great and petty has revealed abiding American strengths.', 'source': 'The New York Times', 'typeOfMaterial': 'Editorial', 'webURL': 'https://www.nytimes.com/2018/01/30/opinion/editorials/donald-trump-sotu-boasting.html'}\n",
      "{'abstract': '', 'articleID': '5a70d1d210f40f00018be8d9', 'articleWordCount': '777', 'byline': 'By BERT STRATTON', 'documentType': 'article', 'headline': 'Good Riddance to Chief Wahoo', 'keywords': \"['Baseball', 'Cleveland Indians', 'Western Reserve Historical Society', 'Cleveland (Ohio)']\", 'multimedia': '68', 'newDesk': 'OpEd', 'printPage': '0', 'pubDate': '2018-01-30 20:13:01', 'sectionName': 'Unknown', 'snippet': 'I’ve lived in Cleveland all my life, and I’m glad to see the racist mascot go.', 'source': 'The New York Times', 'typeOfMaterial': 'Op-Ed', 'webURL': 'https://www.nytimes.com/2018/01/30/opinion/chief-wahoo-cleveland.html'}\n"
     ]
    }
   ],
   "source": [
    "count = 0\n",
    "for ID in articles:\n",
    "    print(articles[ID])\n",
    "    count +=1\n",
    "    if count==5:\n",
    "        break\n",
    "    "
   ]
  },
  {
   "cell_type": "code",
   "execution_count": null,
   "id": "d545c01a",
   "metadata": {},
   "outputs": [],
   "source": [
    "comments = {}\n",
    "num = 0\n",
    "for comments_file_path in paths_comments:\n",
    "    with open(comments_file_path, \"r\",encoding=\"utf-8\",newline=\"\") as f:\n",
    "        csv_reader = csv.reader(f, delimiter=\",\")\n",
    "        header = next(csv_reader)\n",
    "        record = [{field:None} for field in header]\n",
    "        index = 4\n",
    "        for i,item in enumerate(record):\n",
    "            if(list(item.keys())[0]) == \"commentID\":\n",
    "                index =i\n",
    "        for row in csv_reader:\n",
    "            num+=1\n",
    "            record = [{field:None} for field in header]\n",
    "            for i, item in enumerate(row):\n",
    "                record[i][list(record[i].keys())[0]] = item\n",
    "            dictionary = createDictionary(record)\n",
    "            if dictionary[\"articleID\"] in articles.keys():\n",
    "                comments[str(row[index])] = dictionary\n",
    "            \n",
    "print(num)\n",
    "print(f'total comments: {len(comments)}')"
   ]
  },
  {
   "cell_type": "code",
   "execution_count": 83,
   "id": "d2bf1fbb",
   "metadata": {},
   "outputs": [
    {
     "name": "stdout",
     "output_type": "stream",
     "text": [
      "26156416.0\n",
      "{'approveDate': '1519852022', 'articleID': '5a7101c110f40f00018be961', 'articleWordCount': '1322', 'commentBody': 'I typically strongly dislike articles which bring up such tiny disadvantages to women. But this article I liked. It mentioned, “with many female politicians being replaced by male lawmakers who have pushed for legislation to limit women’s access to abortion,” which would normally tick my non-feminist self off in a regular old article, but I feel as though the beating of their drums are beating a new perspective in my heart. The Bahia group is going against cultural norms by becoming the “first all-female bloco-afro in Brazil” and that problem was certainly not tiny. They are drumming for their rights as women. They are drumming for their rights of their race. This article has influenced me to stand for any matter I want to defend with determination just as these women did in Banda Dida.', 'commentID': '26156416.0', 'commentSequence': '26156416.0', 'commentTitle': '<br/>', 'commentType': 'comment', 'createDate': '1519849555', 'depth': '1.0', 'editorsSelection': 'False', 'inReplyTo': '0', 'newDesk': 'Travel', 'parentID': '0.0', 'parentUserDisplayName': '', 'permID': '26156416', 'picURL': 'https://graphics8.nytimes.com/images/apps/timespeople/none.png', 'printPage': '5', 'recommendations': '1', 'recommendedFlag': '', 'replyCount': '0', 'reportAbuseFlag': '', 'sectionName': 'Unknown', 'sharing': '0', 'status': 'approved', 'timespeople': '0', 'trusted': '0', 'typeOfMaterial': 'News', 'updateDate': '1519852022', 'userDisplayName': 'Emma Claire Lisk', 'userID': '83288014.0', 'userLocation': 'Wilmington, NC', 'userTitle': '', 'userURL': ''}\n",
      "25930059.0\n",
      "{'approveDate': '1518469135', 'articleID': '5a7101c110f40f00018be961', 'articleWordCount': '1322', 'commentBody': \"I went to Cuba twice in 1998-9 to study Afro-Cuban drumming.  I am a woman.  I didn't experience any prejudice--I suppose money silences that--but we also visited Matanzas, where we listened to stellar drummers in the home of a woman who was the leader of the group.  Unusual, not unheard of.\", 'commentID': '25930059.0', 'commentSequence': '25930059.0', 'commentTitle': '<br/>', 'commentType': 'comment', 'createDate': '1518458548', 'depth': '1.0', 'editorsSelection': 'False', 'inReplyTo': '0', 'newDesk': 'Travel', 'parentID': '0.0', 'parentUserDisplayName': '', 'permID': '25930059', 'picURL': 'https://graphics8.nytimes.com/images/apps/timespeople/none.png', 'printPage': '5', 'recommendations': '0', 'recommendedFlag': '', 'replyCount': '0', 'reportAbuseFlag': '', 'sectionName': 'Unknown', 'sharing': '0', 'status': 'approved', 'timespeople': '1', 'trusted': '0', 'typeOfMaterial': 'News', 'updateDate': '1518469135', 'userDisplayName': 'Eyes Open', 'userID': '53167641.0', 'userLocation': 'San Francisco', 'userTitle': '', 'userURL': ''}\n",
      "25912292.0\n",
      "{'approveDate': '1518385379', 'articleID': '5a7101c110f40f00018be961', 'articleWordCount': '1322', 'commentBody': 'I don\\'t think this is really all that new: I was in Salvador, Brasil in August 2013.  There was an all female drumming group that performed near the Pelourinho that blew the crowd away with their energy and skill.  Perhaps it wasn\\'t \"Dida\" that I saw, but it was a large organized group of women drummers.', 'commentID': '25912292.0', 'commentSequence': '25912292.0', 'commentTitle': '<br/>', 'commentType': 'comment', 'createDate': '1518304930', 'depth': '1.0', 'editorsSelection': 'False', 'inReplyTo': '0', 'newDesk': 'Travel', 'parentID': '0.0', 'parentUserDisplayName': '', 'permID': '25912292', 'picURL': 'https://graphics8.nytimes.com/images/apps/timespeople/none.png', 'printPage': '5', 'recommendations': '1', 'recommendedFlag': '', 'replyCount': '1', 'reportAbuseFlag': '', 'sectionName': 'Unknown', 'sharing': '1', 'status': 'approved', 'timespeople': '1', 'trusted': '0', 'typeOfMaterial': 'News', 'updateDate': '1518385379', 'userDisplayName': 'Mark Pepp', 'userID': '44043675.0', 'userLocation': 'Chicago', 'userTitle': '', 'userURL': ''}\n",
      "25864174.0\n",
      "{'approveDate': '1517986719', 'articleID': '5a7101c110f40f00018be961', 'articleWordCount': '1322', 'commentBody': 'I was in Salvador last month and got to see Dida before attending the ballet show in pelourinho. THEY ARE AMAZING and I’m excited to return and go to one of their performances. I’ve always admired female drummers.', 'commentID': '25864174.0', 'commentSequence': '25864174.0', 'commentTitle': '<br/>', 'commentType': 'comment', 'createDate': '1517980671', 'depth': '1.0', 'editorsSelection': 'False', 'inReplyTo': '0', 'newDesk': 'Travel', 'parentID': '0.0', 'parentUserDisplayName': '', 'permID': '25864174', 'picURL': 'https://graphics8.nytimes.com/images/apps/timespeople/none.png', 'printPage': '5', 'recommendations': '0', 'recommendedFlag': '', 'replyCount': '0', 'reportAbuseFlag': '', 'sectionName': 'Unknown', 'sharing': '0', 'status': 'approved', 'timespeople': '0', 'trusted': '0', 'typeOfMaterial': 'News', 'updateDate': '1517986719', 'userDisplayName': 'Devonta', 'userID': '84748907.0', 'userLocation': 'New York, NY', 'userTitle': '', 'userURL': ''}\n",
      "25855991.0\n",
      "{'approveDate': '1517945037', 'articleID': '5a7101c110f40f00018be961', 'articleWordCount': '1322', 'commentBody': \"Why is it that men take it upon themselves to (try to) determine where and in what capacity women can exist?  Listen up men, we've had enough of your controlling behavior and we're not going to take it any more.  Time's up!\", 'commentID': '25855991.0', 'commentSequence': '25855991.0', 'commentTitle': '<br/>', 'commentType': 'comment', 'createDate': '1517938058', 'depth': '1.0', 'editorsSelection': 'False', 'inReplyTo': '0', 'newDesk': 'Travel', 'parentID': '0.0', 'parentUserDisplayName': '', 'permID': '25855991', 'picURL': 'https://graphics8.nytimes.com/images/apps/timespeople/none.png', 'printPage': '5', 'recommendations': '12', 'recommendedFlag': '', 'replyCount': '0', 'reportAbuseFlag': '', 'sectionName': 'Unknown', 'sharing': '0', 'status': 'approved', 'timespeople': '1', 'trusted': '0', 'typeOfMaterial': 'News', 'updateDate': '1517945037', 'userDisplayName': 'EDC', 'userID': '25854823.0', 'userLocation': 'Colorado', 'userTitle': '', 'userURL': ''}\n"
     ]
    }
   ],
   "source": [
    "count = 0\n",
    "for ID in comments:\n",
    "    print(ID)\n",
    "    print(comments[ID])\n",
    "    count +=1\n",
    "    if count==5:\n",
    "        break"
   ]
  },
  {
   "cell_type": "code",
   "execution_count": 103,
   "id": "4eb6fcd9",
   "metadata": {},
   "outputs": [],
   "source": [
    "for commentID in comments:\n",
    "    articleID = comments[commentID][\"articleID\"] \n",
    "    if not \"num_comments\" in articles[articleID]:\n",
    "        articles[articleID][\"num_comments\"] = 1\n",
    "    else:\n",
    "        articles[articleID][\"num_comments\"] += 1\n",
    "\n"
   ]
  },
  {
   "cell_type": "code",
   "execution_count": 104,
   "id": "d3a384db",
   "metadata": {},
   "outputs": [
    {
     "name": "stdout",
     "output_type": "stream",
     "text": [
      "{'abstract': '', 'articleID': '5a7101c110f40f00018be961', 'articleWordCount': '1322', 'byline': 'By SHANNON SIMS', 'documentType': 'article', 'headline': 'Rhythm of the Streets: ‘We’re Warrior Women, and Yes, We Can Play’', 'keywords': \"['Bahia (Brazil)', 'Music', 'Women and Girls', 'Banda Dida (Music Group)', 'Drums', 'Carnival (Pre-Lenten)']\", 'multimedia': '68', 'newDesk': 'Travel', 'printPage': '5', 'pubDate': '2018-01-30 23:37:31', 'sectionName': 'Unknown', 'snippet': 'Meet the all-female Brazilian drum group that is challenging gender norms.', 'source': 'The New York Times', 'typeOfMaterial': 'News', 'webURL': 'https://www.nytimes.com/2018/01/30/travel/brazil-all-female-drums-bahia-banda-dida.html', 'num_comments': 175}\n",
      "{'abstract': '', 'articleID': '5a70fc1210f40f00018be950', 'articleWordCount': '1308', 'byline': 'By ALAN RAPPEPORT and THOMAS KAPLAN', 'documentType': 'article', 'headline': 'As Deficit Grows, Congress Keeps Spending', 'keywords': \"['United States Politics and Government', 'Federal Budget (US)', 'Federal Taxes (US)', 'National Debt (US)', 'Infrastructure (Public Works)', 'Trump, Donald J']\", 'multimedia': '68', 'newDesk': 'Washington', 'printPage': '17', 'pubDate': '2018-01-30 23:13:14', 'sectionName': 'Politics', 'snippet': 'Treasury Secretary Steven Mnuchin urged Congress to lift the debt ceiling as lawmakers embark on a spending spree.', 'source': 'The New York Times', 'typeOfMaterial': 'News', 'webURL': 'https://www.nytimes.com/2018/01/30/us/politics/federal-deficit-1-trillion.html', 'num_comments': 777}\n",
      "{'abstract': '', 'articleID': '5a70f8f810f40f00018be943', 'articleWordCount': '228', 'byline': 'By JANE LANG', 'documentType': 'article', 'headline': 'Lesson in Select Bus Service', 'keywords': \"['Buses', 'Pennsylvania Station (Manhattan, NY)', 'New York City']\", 'multimedia': '0', 'newDesk': 'Metro', 'printPage': '16', 'pubDate': '2018-01-30 23:00:01', 'sectionName': 'Unknown', 'snippet': 'A woman finds out what happens when you don’t pay your fare before boarding.', 'source': 'The New York Times', 'typeOfMaterial': 'News', 'webURL': 'https://www.nytimes.com/2018/01/30/nyregion/metropolitan-diary-lesson-in-select-bus-service.html', 'num_comments': 70}\n",
      "{'abstract': '', 'articleID': '5a70eb8110f40f00018be925', 'articleWordCount': '1114', 'byline': 'By THE EDITORIAL BOARD', 'documentType': 'article', 'headline': 'Here’s the Real State of the Union', 'keywords': \"['State of the Union Message (US)', 'Trump, Donald J', 'United States Politics and Government', 'United States International Relations']\", 'multimedia': '61', 'newDesk': 'Editorial', 'printPage': '24', 'pubDate': '2018-01-30 22:02:36', 'sectionName': 'Editorials', 'snippet': 'The reaction against his authoritarian impulses, assault on truth and cruelties great and petty has revealed abiding American strengths.', 'source': 'The New York Times', 'typeOfMaterial': 'Editorial', 'webURL': 'https://www.nytimes.com/2018/01/30/opinion/editorials/donald-trump-sotu-boasting.html', 'num_comments': 4473}\n",
      "{'abstract': '', 'articleID': '5a70d1d210f40f00018be8d9', 'articleWordCount': '777', 'byline': 'By BERT STRATTON', 'documentType': 'article', 'headline': 'Good Riddance to Chief Wahoo', 'keywords': \"['Baseball', 'Cleveland Indians', 'Western Reserve Historical Society', 'Cleveland (Ohio)']\", 'multimedia': '68', 'newDesk': 'OpEd', 'printPage': '0', 'pubDate': '2018-01-30 20:13:01', 'sectionName': 'Unknown', 'snippet': 'I’ve lived in Cleveland all my life, and I’m glad to see the racist mascot go.', 'source': 'The New York Times', 'typeOfMaterial': 'Op-Ed', 'webURL': 'https://www.nytimes.com/2018/01/30/opinion/chief-wahoo-cleveland.html', 'num_comments': 560}\n"
     ]
    }
   ],
   "source": [
    "count = 0\n",
    "for ID in articles:\n",
    "    print(articles[ID])\n",
    "    count +=1\n",
    "    if count==5:\n",
    "        break"
   ]
  },
  {
   "cell_type": "code",
   "execution_count": 108,
   "id": "4b4a6c84",
   "metadata": {},
   "outputs": [
    {
     "name": "stdout",
     "output_type": "stream",
     "text": [
      "3561934\n",
      "{'articleID': '5aba12a547de81a901217c97', 'byline': 'By JOHN PAUL STEVENS', 'documentType': 'article', 'headline': 'Repeal the Second Amendment', 'keywords': \"['Gun Control', 'Second Amendment (US Constitution)', 'Law and Legislation', 'Supreme Court (US)']\", 'multimedia': '1', 'newDesk': 'OpEd', 'printPage': '23', 'pubDate': '2018-03-27 09:45:06', 'sectionName': 'Unknown', 'snippet': 'This weekend’s marches make it clear: To enact real gun control, we need to change the Constitution.', 'source': 'The New York Times', 'typeOfMaterial': 'Op-Ed', 'webURL': 'https://www.nytimes.com/2018/03/27/opinion/john-paul-stevens-repeal-second-amendment.html', 'articleWordCount': '539', 'num_comments': 14635}\n",
      "14635\n"
     ]
    }
   ],
   "source": [
    "total_comments = 0\n",
    "article_with_most_comments = {}\n",
    "maxnum = 0\n",
    "for articleID in articles:\n",
    "    total_comments += articles[articleID][\"num_comments\"]\n",
    "    if articles[articleID][\"num_comments\"] > maxnum:\n",
    "        maxnum = articles[articleID][\"num_comments\"]\n",
    "        article_with_most_comments = articles[articleID]\n",
    "print(total_comments)\n",
    "print(article_with_most_comments)\n",
    "print(maxnum)"
   ]
  }
 ],
 "metadata": {
  "kernelspec": {
   "display_name": "Python 3 (ipykernel)",
   "language": "python",
   "name": "python3"
  },
  "language_info": {
   "codemirror_mode": {
    "name": "ipython",
    "version": 3
   },
   "file_extension": ".py",
   "mimetype": "text/x-python",
   "name": "python",
   "nbconvert_exporter": "python",
   "pygments_lexer": "ipython3",
   "version": "3.9.12"
  }
 },
 "nbformat": 4,
 "nbformat_minor": 5
}
