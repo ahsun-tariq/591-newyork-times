{
 "cells": [
  {
   "cell_type": "code",
   "execution_count": 45,
   "id": "f248a9ba",
   "metadata": {},
   "outputs": [],
   "source": [
    "import nwhy\n",
    "import hypernetx as hnx\n",
    "import os\n",
    "import numpy as np\n",
    "import csv"
   ]
  },
  {
   "cell_type": "code",
   "execution_count": 3,
   "id": "8968f02b",
   "metadata": {},
   "outputs": [],
   "source": [
    "path = r'/mnt/c/pythonProjects/591-newyork-times/archive'"
   ]
  },
  {
   "cell_type": "code",
   "execution_count": 4,
   "id": "a3b3175e",
   "metadata": {},
   "outputs": [
    {
     "name": "stdout",
     "output_type": "stream",
     "text": [
      "['ArticlesApril2017.csv', 'ArticlesApril2018.csv', 'ArticlesFeb2017.csv', 'ArticlesFeb2018.csv', 'ArticlesJan2017.csv', 'ArticlesJan2018.csv', 'ArticlesMarch2017.csv', 'ArticlesMarch2018.csv', 'ArticlesMay2017.csv', 'CommentsApril2017.csv', 'CommentsApril2018.csv', 'CommentsFeb2017.csv', 'CommentsFeb2018.csv', 'CommentsJan2017.csv', 'CommentsJan2018.csv', 'CommentsMarch2017.csv', 'CommentsMarch2018.csv', 'CommentsMay2017.csv']\n"
     ]
    }
   ],
   "source": [
    "print(os.listdir(path))"
   ]
  },
  {
   "cell_type": "code",
   "execution_count": 5,
   "id": "48ab3515",
   "metadata": {},
   "outputs": [
    {
     "name": "stdout",
     "output_type": "stream",
     "text": [
      "['/mnt/c/pythonProjects/591-newyork-times/archive/ArticlesJan2018.csv', '/mnt/c/pythonProjects/591-newyork-times/archive/ArticlesFeb2018.csv', '/mnt/c/pythonProjects/591-newyork-times/archive/ArticlesMarch2018.csv']\n",
      "['/mnt/c/pythonProjects/591-newyork-times/archive/CommentsJan2018.csv', '/mnt/c/pythonProjects/591-newyork-times/archive/CommentsFeb2018.csv', '/mnt/c/pythonProjects/591-newyork-times/archive/CommentsMarch2018.csv']\n"
     ]
    }
   ],
   "source": [
    "paths_articles = []\n",
    "paths_comments = []\n",
    "\n",
    "articles_file_path_jan = path + '/' +'ArticlesJan2018.csv'\n",
    "paths_articles.append(articles_file_path_jan)\n",
    "comments_file_path_jan = path + '/' + 'CommentsJan2018.csv'\n",
    "paths_comments.append(comments_file_path_jan)\n",
    "\n",
    "articles_file_path_feb = path + '/' +'ArticlesFeb2018.csv'\n",
    "paths_articles.append(articles_file_path_feb)\n",
    "comments_file_path_feb = path + '/' + 'CommentsFeb2018.csv'\n",
    "paths_comments.append(comments_file_path_feb)\n",
    "\n",
    "\n",
    "articles_file_path_march = path + '/' +'ArticlesMarch2018.csv'\n",
    "paths_articles.append(articles_file_path_march)\n",
    "comments_file_path_march = path + '/' + 'CommentsMarch2018.csv'\n",
    "paths_comments.append(comments_file_path_march)\n",
    "\n",
    "articles_file_path_april = path + '/' +'ArticlesApril2018.csv'\n",
    "# paths_articles.append(articles_file_path_april)\n",
    "comments_file_path_april = path + '/' + 'CommentsApril2018.csv'\n",
    "# paths_comments.append(comments_file_path_april)\n",
    "\n",
    "print(paths_articles)\n",
    "print(paths_comments)"
   ]
  },
  {
   "cell_type": "code",
   "execution_count": 6,
   "id": "363be082",
   "metadata": {},
   "outputs": [],
   "source": [
    "def createDictionary(array_of_dictionaries):\n",
    "    dictionary = array_of_dictionaries[0]\n",
    "    for i in range(1, len(array_of_dictionaries)):\n",
    "        dictionary.update(array_of_dictionaries[i])\n",
    "    return dictionary\n",
    "        "
   ]
  },
  {
   "cell_type": "code",
   "execution_count": 7,
   "id": "2782ee29",
   "metadata": {},
   "outputs": [
    {
     "name": "stdout",
     "output_type": "stream",
     "text": [
      "3445\n",
      "3445\n"
     ]
    }
   ],
   "source": [
    "articles  = {}\n",
    "count = 0\n",
    "for articles_file_path in paths_articles:\n",
    "\n",
    "    with open(articles_file_path, \"r\",encoding=\"utf-8\",newline=\"\") as f:\n",
    "        csv_reader = csv.reader(f, delimiter=\",\")\n",
    "        header = next(csv_reader)\n",
    "        record = [{field:None} for field in header]\n",
    "        index = 0\n",
    "        for i,item in enumerate(record):\n",
    "            if(list(item.keys())[0]) == \"articleID\":\n",
    "                index =i\n",
    "        for row in csv_reader:\n",
    "            record = [{field:None} for field in header]\n",
    "            for i, item in enumerate(row):\n",
    "                record[i][list(record[i].keys())[0]] = item\n",
    "            articles[row[index]]= createDictionary(record)\n",
    "            count += 1\n",
    "print(count)\n",
    "print(len(articles))"
   ]
  },
  {
   "cell_type": "code",
   "execution_count": 8,
   "id": "7e2dd36a",
   "metadata": {},
   "outputs": [
    {
     "name": "stdout",
     "output_type": "stream",
     "text": [
      "{'abstract': '', 'articleID': '5a7101c110f40f00018be961', 'articleWordCount': '1322', 'byline': 'By SHANNON SIMS', 'documentType': 'article', 'headline': 'Rhythm of the Streets: ‘We’re Warrior Women, and Yes, We Can Play’', 'keywords': \"['Bahia (Brazil)', 'Music', 'Women and Girls', 'Banda Dida (Music Group)', 'Drums', 'Carnival (Pre-Lenten)']\", 'multimedia': '68', 'newDesk': 'Travel', 'printPage': '5', 'pubDate': '2018-01-30 23:37:31', 'sectionName': 'Unknown', 'snippet': 'Meet the all-female Brazilian drum group that is challenging gender norms.', 'source': 'The New York Times', 'typeOfMaterial': 'News', 'webURL': 'https://www.nytimes.com/2018/01/30/travel/brazil-all-female-drums-bahia-banda-dida.html'}\n",
      "{'abstract': '', 'articleID': '5a70fc1210f40f00018be950', 'articleWordCount': '1308', 'byline': 'By ALAN RAPPEPORT and THOMAS KAPLAN', 'documentType': 'article', 'headline': 'As Deficit Grows, Congress Keeps Spending', 'keywords': \"['United States Politics and Government', 'Federal Budget (US)', 'Federal Taxes (US)', 'National Debt (US)', 'Infrastructure (Public Works)', 'Trump, Donald J']\", 'multimedia': '68', 'newDesk': 'Washington', 'printPage': '17', 'pubDate': '2018-01-30 23:13:14', 'sectionName': 'Politics', 'snippet': 'Treasury Secretary Steven Mnuchin urged Congress to lift the debt ceiling as lawmakers embark on a spending spree.', 'source': 'The New York Times', 'typeOfMaterial': 'News', 'webURL': 'https://www.nytimes.com/2018/01/30/us/politics/federal-deficit-1-trillion.html'}\n",
      "{'abstract': '', 'articleID': '5a70f8f810f40f00018be943', 'articleWordCount': '228', 'byline': 'By JANE LANG', 'documentType': 'article', 'headline': 'Lesson in Select Bus Service', 'keywords': \"['Buses', 'Pennsylvania Station (Manhattan, NY)', 'New York City']\", 'multimedia': '0', 'newDesk': 'Metro', 'printPage': '16', 'pubDate': '2018-01-30 23:00:01', 'sectionName': 'Unknown', 'snippet': 'A woman finds out what happens when you don’t pay your fare before boarding.', 'source': 'The New York Times', 'typeOfMaterial': 'News', 'webURL': 'https://www.nytimes.com/2018/01/30/nyregion/metropolitan-diary-lesson-in-select-bus-service.html'}\n",
      "{'abstract': '', 'articleID': '5a70eb8110f40f00018be925', 'articleWordCount': '1114', 'byline': 'By THE EDITORIAL BOARD', 'documentType': 'article', 'headline': 'Here’s the Real State of the Union', 'keywords': \"['State of the Union Message (US)', 'Trump, Donald J', 'United States Politics and Government', 'United States International Relations']\", 'multimedia': '61', 'newDesk': 'Editorial', 'printPage': '24', 'pubDate': '2018-01-30 22:02:36', 'sectionName': 'Editorials', 'snippet': 'The reaction against his authoritarian impulses, assault on truth and cruelties great and petty has revealed abiding American strengths.', 'source': 'The New York Times', 'typeOfMaterial': 'Editorial', 'webURL': 'https://www.nytimes.com/2018/01/30/opinion/editorials/donald-trump-sotu-boasting.html'}\n",
      "{'abstract': '', 'articleID': '5a70d1d210f40f00018be8d9', 'articleWordCount': '777', 'byline': 'By BERT STRATTON', 'documentType': 'article', 'headline': 'Good Riddance to Chief Wahoo', 'keywords': \"['Baseball', 'Cleveland Indians', 'Western Reserve Historical Society', 'Cleveland (Ohio)']\", 'multimedia': '68', 'newDesk': 'OpEd', 'printPage': '0', 'pubDate': '2018-01-30 20:13:01', 'sectionName': 'Unknown', 'snippet': 'I’ve lived in Cleveland all my life, and I’m glad to see the racist mascot go.', 'source': 'The New York Times', 'typeOfMaterial': 'Op-Ed', 'webURL': 'https://www.nytimes.com/2018/01/30/opinion/chief-wahoo-cleveland.html'}\n"
     ]
    }
   ],
   "source": [
    "count = 0\n",
    "for ID in articles:\n",
    "    print(articles[ID])\n",
    "    count +=1\n",
    "    if count==5:\n",
    "        break\n",
    "    "
   ]
  },
  {
   "cell_type": "code",
   "execution_count": 9,
   "id": "428e661e",
   "metadata": {},
   "outputs": [
    {
     "name": "stdout",
     "output_type": "stream",
     "text": [
      "665396\n",
      "total comments: 640904\n"
     ]
    }
   ],
   "source": [
    "comments = {}\n",
    "num = 0\n",
    "for comments_file_path in paths_comments:\n",
    "    with open(comments_file_path, \"r\",encoding=\"utf-8\",newline=\"\") as f:\n",
    "        csv_reader = csv.reader(f, delimiter=\",\")\n",
    "        header = next(csv_reader)\n",
    "        record = [{field:None} for field in header]\n",
    "        index = 4\n",
    "        for i,item in enumerate(record):\n",
    "            if(list(item.keys())[0]) == \"commentID\":\n",
    "                index =i\n",
    "        for row in csv_reader:\n",
    "            num+=1\n",
    "            record = [{field:None} for field in header]\n",
    "            for i, item in enumerate(row):\n",
    "                record[i][list(record[i].keys())[0]] = item\n",
    "            dictionary = createDictionary(record)\n",
    "            if dictionary[\"articleID\"] in articles.keys():\n",
    "                comments[str(row[index])] = dictionary\n",
    "            \n",
    "print(num)\n",
    "print(f'total comments: {len(comments)}')"
   ]
  },
  {
   "cell_type": "code",
   "execution_count": 10,
   "id": "d3ab82f4",
   "metadata": {},
   "outputs": [
    {
     "name": "stdout",
     "output_type": "stream",
     "text": [
      "26156416.0\n",
      "{'approveDate': '1519852022', 'articleID': '5a7101c110f40f00018be961', 'articleWordCount': '1322', 'commentBody': 'I typically strongly dislike articles which bring up such tiny disadvantages to women. But this article I liked. It mentioned, “with many female politicians being replaced by male lawmakers who have pushed for legislation to limit women’s access to abortion,” which would normally tick my non-feminist self off in a regular old article, but I feel as though the beating of their drums are beating a new perspective in my heart. The Bahia group is going against cultural norms by becoming the “first all-female bloco-afro in Brazil” and that problem was certainly not tiny. They are drumming for their rights as women. They are drumming for their rights of their race. This article has influenced me to stand for any matter I want to defend with determination just as these women did in Banda Dida.', 'commentID': '26156416.0', 'commentSequence': '26156416.0', 'commentTitle': '<br/>', 'commentType': 'comment', 'createDate': '1519849555', 'depth': '1.0', 'editorsSelection': 'False', 'inReplyTo': '0', 'newDesk': 'Travel', 'parentID': '0.0', 'parentUserDisplayName': '', 'permID': '26156416', 'picURL': 'https://graphics8.nytimes.com/images/apps/timespeople/none.png', 'printPage': '5', 'recommendations': '1', 'recommendedFlag': '', 'replyCount': '0', 'reportAbuseFlag': '', 'sectionName': 'Unknown', 'sharing': '0', 'status': 'approved', 'timespeople': '0', 'trusted': '0', 'typeOfMaterial': 'News', 'updateDate': '1519852022', 'userDisplayName': 'Emma Claire Lisk', 'userID': '83288014.0', 'userLocation': 'Wilmington, NC', 'userTitle': '', 'userURL': ''}\n",
      "25930059.0\n",
      "{'approveDate': '1518469135', 'articleID': '5a7101c110f40f00018be961', 'articleWordCount': '1322', 'commentBody': \"I went to Cuba twice in 1998-9 to study Afro-Cuban drumming.  I am a woman.  I didn't experience any prejudice--I suppose money silences that--but we also visited Matanzas, where we listened to stellar drummers in the home of a woman who was the leader of the group.  Unusual, not unheard of.\", 'commentID': '25930059.0', 'commentSequence': '25930059.0', 'commentTitle': '<br/>', 'commentType': 'comment', 'createDate': '1518458548', 'depth': '1.0', 'editorsSelection': 'False', 'inReplyTo': '0', 'newDesk': 'Travel', 'parentID': '0.0', 'parentUserDisplayName': '', 'permID': '25930059', 'picURL': 'https://graphics8.nytimes.com/images/apps/timespeople/none.png', 'printPage': '5', 'recommendations': '0', 'recommendedFlag': '', 'replyCount': '0', 'reportAbuseFlag': '', 'sectionName': 'Unknown', 'sharing': '0', 'status': 'approved', 'timespeople': '1', 'trusted': '0', 'typeOfMaterial': 'News', 'updateDate': '1518469135', 'userDisplayName': 'Eyes Open', 'userID': '53167641.0', 'userLocation': 'San Francisco', 'userTitle': '', 'userURL': ''}\n",
      "25912292.0\n",
      "{'approveDate': '1518385379', 'articleID': '5a7101c110f40f00018be961', 'articleWordCount': '1322', 'commentBody': 'I don\\'t think this is really all that new: I was in Salvador, Brasil in August 2013.  There was an all female drumming group that performed near the Pelourinho that blew the crowd away with their energy and skill.  Perhaps it wasn\\'t \"Dida\" that I saw, but it was a large organized group of women drummers.', 'commentID': '25912292.0', 'commentSequence': '25912292.0', 'commentTitle': '<br/>', 'commentType': 'comment', 'createDate': '1518304930', 'depth': '1.0', 'editorsSelection': 'False', 'inReplyTo': '0', 'newDesk': 'Travel', 'parentID': '0.0', 'parentUserDisplayName': '', 'permID': '25912292', 'picURL': 'https://graphics8.nytimes.com/images/apps/timespeople/none.png', 'printPage': '5', 'recommendations': '1', 'recommendedFlag': '', 'replyCount': '1', 'reportAbuseFlag': '', 'sectionName': 'Unknown', 'sharing': '1', 'status': 'approved', 'timespeople': '1', 'trusted': '0', 'typeOfMaterial': 'News', 'updateDate': '1518385379', 'userDisplayName': 'Mark Pepp', 'userID': '44043675.0', 'userLocation': 'Chicago', 'userTitle': '', 'userURL': ''}\n",
      "25864174.0\n",
      "{'approveDate': '1517986719', 'articleID': '5a7101c110f40f00018be961', 'articleWordCount': '1322', 'commentBody': 'I was in Salvador last month and got to see Dida before attending the ballet show in pelourinho. THEY ARE AMAZING and I’m excited to return and go to one of their performances. I’ve always admired female drummers.', 'commentID': '25864174.0', 'commentSequence': '25864174.0', 'commentTitle': '<br/>', 'commentType': 'comment', 'createDate': '1517980671', 'depth': '1.0', 'editorsSelection': 'False', 'inReplyTo': '0', 'newDesk': 'Travel', 'parentID': '0.0', 'parentUserDisplayName': '', 'permID': '25864174', 'picURL': 'https://graphics8.nytimes.com/images/apps/timespeople/none.png', 'printPage': '5', 'recommendations': '0', 'recommendedFlag': '', 'replyCount': '0', 'reportAbuseFlag': '', 'sectionName': 'Unknown', 'sharing': '0', 'status': 'approved', 'timespeople': '0', 'trusted': '0', 'typeOfMaterial': 'News', 'updateDate': '1517986719', 'userDisplayName': 'Devonta', 'userID': '84748907.0', 'userLocation': 'New York, NY', 'userTitle': '', 'userURL': ''}\n",
      "25855991.0\n",
      "{'approveDate': '1517945037', 'articleID': '5a7101c110f40f00018be961', 'articleWordCount': '1322', 'commentBody': \"Why is it that men take it upon themselves to (try to) determine where and in what capacity women can exist?  Listen up men, we've had enough of your controlling behavior and we're not going to take it any more.  Time's up!\", 'commentID': '25855991.0', 'commentSequence': '25855991.0', 'commentTitle': '<br/>', 'commentType': 'comment', 'createDate': '1517938058', 'depth': '1.0', 'editorsSelection': 'False', 'inReplyTo': '0', 'newDesk': 'Travel', 'parentID': '0.0', 'parentUserDisplayName': '', 'permID': '25855991', 'picURL': 'https://graphics8.nytimes.com/images/apps/timespeople/none.png', 'printPage': '5', 'recommendations': '12', 'recommendedFlag': '', 'replyCount': '0', 'reportAbuseFlag': '', 'sectionName': 'Unknown', 'sharing': '0', 'status': 'approved', 'timespeople': '1', 'trusted': '0', 'typeOfMaterial': 'News', 'updateDate': '1517945037', 'userDisplayName': 'EDC', 'userID': '25854823.0', 'userLocation': 'Colorado', 'userTitle': '', 'userURL': ''}\n"
     ]
    }
   ],
   "source": [
    "count = 0\n",
    "for ID in comments:\n",
    "    print(ID)\n",
    "    print(comments[ID])\n",
    "    count +=1\n",
    "    if count==5:\n",
    "        break"
   ]
  },
  {
   "cell_type": "code",
   "execution_count": 11,
   "id": "506c3f95",
   "metadata": {},
   "outputs": [],
   "source": [
    "for commentID in comments:\n",
    "    articleID = comments[commentID][\"articleID\"] \n",
    "    if not \"num_comments\" in articles[articleID]:\n",
    "        articles[articleID][\"num_comments\"] = 1\n",
    "    else:\n",
    "        articles[articleID][\"num_comments\"] += 1\n",
    "\n"
   ]
  },
  {
   "cell_type": "code",
   "execution_count": 12,
   "id": "94456e5d",
   "metadata": {},
   "outputs": [
    {
     "name": "stdout",
     "output_type": "stream",
     "text": [
      "{'abstract': '', 'articleID': '5a7101c110f40f00018be961', 'articleWordCount': '1322', 'byline': 'By SHANNON SIMS', 'documentType': 'article', 'headline': 'Rhythm of the Streets: ‘We’re Warrior Women, and Yes, We Can Play’', 'keywords': \"['Bahia (Brazil)', 'Music', 'Women and Girls', 'Banda Dida (Music Group)', 'Drums', 'Carnival (Pre-Lenten)']\", 'multimedia': '68', 'newDesk': 'Travel', 'printPage': '5', 'pubDate': '2018-01-30 23:37:31', 'sectionName': 'Unknown', 'snippet': 'Meet the all-female Brazilian drum group that is challenging gender norms.', 'source': 'The New York Times', 'typeOfMaterial': 'News', 'webURL': 'https://www.nytimes.com/2018/01/30/travel/brazil-all-female-drums-bahia-banda-dida.html', 'num_comments': 25}\n",
      "{'abstract': '', 'articleID': '5a70fc1210f40f00018be950', 'articleWordCount': '1308', 'byline': 'By ALAN RAPPEPORT and THOMAS KAPLAN', 'documentType': 'article', 'headline': 'As Deficit Grows, Congress Keeps Spending', 'keywords': \"['United States Politics and Government', 'Federal Budget (US)', 'Federal Taxes (US)', 'National Debt (US)', 'Infrastructure (Public Works)', 'Trump, Donald J']\", 'multimedia': '68', 'newDesk': 'Washington', 'printPage': '17', 'pubDate': '2018-01-30 23:13:14', 'sectionName': 'Politics', 'snippet': 'Treasury Secretary Steven Mnuchin urged Congress to lift the debt ceiling as lawmakers embark on a spending spree.', 'source': 'The New York Times', 'typeOfMaterial': 'News', 'webURL': 'https://www.nytimes.com/2018/01/30/us/politics/federal-deficit-1-trillion.html', 'num_comments': 111}\n",
      "{'abstract': '', 'articleID': '5a70f8f810f40f00018be943', 'articleWordCount': '228', 'byline': 'By JANE LANG', 'documentType': 'article', 'headline': 'Lesson in Select Bus Service', 'keywords': \"['Buses', 'Pennsylvania Station (Manhattan, NY)', 'New York City']\", 'multimedia': '0', 'newDesk': 'Metro', 'printPage': '16', 'pubDate': '2018-01-30 23:00:01', 'sectionName': 'Unknown', 'snippet': 'A woman finds out what happens when you don’t pay your fare before boarding.', 'source': 'The New York Times', 'typeOfMaterial': 'News', 'webURL': 'https://www.nytimes.com/2018/01/30/nyregion/metropolitan-diary-lesson-in-select-bus-service.html', 'num_comments': 10}\n",
      "{'abstract': '', 'articleID': '5a70eb8110f40f00018be925', 'articleWordCount': '1114', 'byline': 'By THE EDITORIAL BOARD', 'documentType': 'article', 'headline': 'Here’s the Real State of the Union', 'keywords': \"['State of the Union Message (US)', 'Trump, Donald J', 'United States Politics and Government', 'United States International Relations']\", 'multimedia': '61', 'newDesk': 'Editorial', 'printPage': '24', 'pubDate': '2018-01-30 22:02:36', 'sectionName': 'Editorials', 'snippet': 'The reaction against his authoritarian impulses, assault on truth and cruelties great and petty has revealed abiding American strengths.', 'source': 'The New York Times', 'typeOfMaterial': 'Editorial', 'webURL': 'https://www.nytimes.com/2018/01/30/opinion/editorials/donald-trump-sotu-boasting.html', 'num_comments': 639}\n",
      "{'abstract': '', 'articleID': '5a70d1d210f40f00018be8d9', 'articleWordCount': '777', 'byline': 'By BERT STRATTON', 'documentType': 'article', 'headline': 'Good Riddance to Chief Wahoo', 'keywords': \"['Baseball', 'Cleveland Indians', 'Western Reserve Historical Society', 'Cleveland (Ohio)']\", 'multimedia': '68', 'newDesk': 'OpEd', 'printPage': '0', 'pubDate': '2018-01-30 20:13:01', 'sectionName': 'Unknown', 'snippet': 'I’ve lived in Cleveland all my life, and I’m glad to see the racist mascot go.', 'source': 'The New York Times', 'typeOfMaterial': 'Op-Ed', 'webURL': 'https://www.nytimes.com/2018/01/30/opinion/chief-wahoo-cleveland.html', 'num_comments': 80}\n"
     ]
    }
   ],
   "source": [
    "count = 0\n",
    "for ID in articles:\n",
    "    print(articles[ID])\n",
    "    count +=1\n",
    "    if count==5:\n",
    "        break"
   ]
  },
  {
   "cell_type": "code",
   "execution_count": 13,
   "id": "5c36cf97",
   "metadata": {},
   "outputs": [
    {
     "name": "stdout",
     "output_type": "stream",
     "text": [
      "640904\n",
      "{'articleID': '5aba12a547de81a901217c97', 'byline': 'By JOHN PAUL STEVENS', 'documentType': 'article', 'headline': 'Repeal the Second Amendment', 'keywords': \"['Gun Control', 'Second Amendment (US Constitution)', 'Law and Legislation', 'Supreme Court (US)']\", 'multimedia': '1', 'newDesk': 'OpEd', 'printPage': '23', 'pubDate': '2018-03-27 09:45:06', 'sectionName': 'Unknown', 'snippet': 'This weekend’s marches make it clear: To enact real gun control, we need to change the Constitution.', 'source': 'The New York Times', 'typeOfMaterial': 'Op-Ed', 'webURL': 'https://www.nytimes.com/2018/03/27/opinion/john-paul-stevens-repeal-second-amendment.html', 'articleWordCount': '539', 'num_comments': 2927}\n",
      "2927\n"
     ]
    }
   ],
   "source": [
    "total_comments = 0\n",
    "article_with_most_comments = {}\n",
    "maxnum = 0\n",
    "for articleID in articles:\n",
    "    total_comments += articles[articleID][\"num_comments\"]\n",
    "    if articles[articleID][\"num_comments\"] > maxnum:\n",
    "        maxnum = articles[articleID][\"num_comments\"]\n",
    "        article_with_most_comments = articles[articleID]\n",
    "print(total_comments)\n",
    "print(article_with_most_comments)\n",
    "print(maxnum)"
   ]
  },
  {
   "cell_type": "code",
   "execution_count": 77,
   "id": "2e18c5ec",
   "metadata": {},
   "outputs": [
    {
     "name": "stdout",
     "output_type": "stream",
     "text": [
      "113089 users found\n",
      "83288014.0\n",
      "{'userTitle': '', 'location': 'Wilmington, NC'}\n",
      "53167641.0\n",
      "{'userTitle': '', 'location': 'San Francisco'}\n",
      "44043675.0\n",
      "{'userTitle': '', 'location': 'Chicago'}\n",
      "84748907.0\n",
      "{'userTitle': '', 'location': 'New York, NY'}\n",
      "25854823.0\n",
      "{'userTitle': '', 'location': 'Colorado'}\n",
      "37084925.0\n",
      "{'userTitle': '', 'location': 'Brasil'}\n",
      "5a7101c110f40f00018be961\n",
      "{'37084925.0', '36791354.0', '2734975.0', '43839882.0', '8953756.0', '53806807.0', '44043675.0', '84748907.0', '17660585.0', '83288014.0', '53167641.0', '76739035.0', '81222604.0', '78273096.0', '25854823.0', '49331282.0', '28180820.0', '27581854.0', '77964859.0', '76084824.0', '35080129.0', '30515740.0', '36234712.0'}\n",
      "5a70fc1210f40f00018be950\n",
      "{'49057690.0', '84656120.0', '62978371.0', '73849396.0', '830455.0', '69433294.0', '27822875.0', '76321569.0', '79300155.0', '34963770.0', '5161936.0', '49437764.0', '46829210.0', '62856899.0', '1378024.0', '79151495.0', '60025659.0', '6967505.0', '67820750.0', '66537945.0', '10664125.0', '77797451.0', '78690015.0', '82409470.0', '27920024.0', '57604197.0', '66854707.0', '58640953.0', '58228060.0', '30108860.0', '60946685.0', '11348361.0', '18601754.0', '50689048.0', '68061685.0', '65424785.0', '20300807.0', '10075513.0', '41855200.0', '2672128.0', '64940876.0', '78213899.0', '51905269.0', '67486466.0', '65673927.0', '54155350.0', '45635587.0', '77584963.0', '44499492.0', '77803960.0', '46314207.0', '66788641.0', '61747904.0', '26836128.0', '58766011.0', '59460227.0', '58364898.0', '45428638.0', '54688896.0', '7063142.0', '66171857.0', '83150051.0', '67521305.0', '79062182.0', '64889900.0', '42289376.0', '47524471.0', '77758506.0', '66997378.0', '17446666.0', '28023524.0', '60759452.0', '59017893.0', '51878992.0', '5050077.0', '21142372.0', '1582458.0', '50797.0', '25498264.0', '54544961.0', '56114092.0', '43828134.0', '47421523.0', '36876869.0', '65293544.0', '60810803.0', '51184641.0', '60407145.0', '48135215.0', '62401523.0', '69677914.0', '32171272.0', '47209588.0', '68938663.0', '1506197.0', '68752205.0', '65660272.0', '70764882.0', '26251732.0', '80565703.0'}\n",
      "5a70f8f810f40f00018be943\n",
      "{'22804326.0', '66562890.0', '13600770.0', '56200156.0', '14954564.0', '66605334.0', '67697721.0', '13110936.0', '8719272.0', '66565256.0'}\n",
      "5a70eb8110f40f00018be925\n",
      "{'61051574.0', '42231641.0', '77640573.0', '63160788.0', '69504255.0', '27029503.0', '57475904.0', '68088054.0', '66459538.0', '65351610.0', '63952964.0', '77697217.0', '22843988.0', '12336238.0', '44584185.0', '76945195.0', '12001710.0', '69095761.0', '67976153.0', '59811266.0', '64610545.0', '58531668.0', '57860429.0', '68586711.0', '64595365.0', '72378540.0', '51078065.0', '18561558.0', '78588003.0', '30484392.0', '17072050.0', '83543404.0', '58369910.0', '61630627.0', '41732403.0', '81426273.0', '61607320.0', '76277477.0', '57113514.0', '52099086.0', '65052023.0', '65061126.0', '73988402.0', '2396099.0', '471868.0', '60971606.0', '4952842.0', '28617892.0', '66788641.0', '67515048.0', '51692826.0', '76026459.0', '23628422.0', '74603787.0', '42128569.0', '34262318.0', '15422447.0', '51286647.0', '11941221.0', '72901884.0', '66286968.0', '21183296.0', '40255872.0', '46947258.0', '60553513.0', '80647322.0', '61915797.0', '41963297.0', '38189909.0', '61852274.0', '6352804.0', '75911032.0', '73649105.0', '60500778.0', '71029288.0', '69135137.0', '63292269.0', '76986632.0', '60930047.0', '72249878.0', '11228992.0', '17203869.0', '4501886.0', '13177667.0', '66012264.0', '48833015.0', '46950942.0', '65431352.0', '27421933.0', '42609600.0', '67725170.0', '62983605.0', '62147305.0', '57317897.0', '348588.0', '15040677.0', '60072706.0', '23688396.0', '76302852.0', '63104863.0', '23375417.0', '40651927.0', '69198202.0', '23397057.0', '74604008.0', '62464348.0', '65660108.0', '47123844.0', '7006450.0', '59900427.0', '18783318.0', '17374907.0', '56588248.0', '66732933.0', '50055345.0', '4009962.0', '63425643.0', '56889753.0', '67529055.0', '59309121.0', '54048801.0', '2073520.0', '2392360.0', '61663303.0', '65035652.0', '32195826.0', '57807638.0', '40324085.0', '60102799.0', '63464538.0', '66865645.0', '25473025.0', '18690270.0', '45074051.0', '44420772.0', '76315144.0', '69181997.0', '66367317.0', '56166904.0', '77279144.0', '64600216.0', '79191598.0', '84432993.0', '15785326.0', '51987649.0', '19853042.0', '73328607.0', '12886516.0', '26825267.0', '70063322.0', '58806381.0', '53777636.0', '48104835.0', '63030011.0', '71589404.0', '65213775.0', '48512160.0', '41815993.0', '5613034.0', '47026771.0', '78343265.0', '69089999.0', '66342136.0', '23784769.0', '71401138.0', '60579016.0', '51677946.0', '66021420.0', '66860175.0', '69548615.0', '3544810.0', '64814767.0', '52287224.0', '71659619.0', '58492566.0', '61397772.0', '57258082.0', '73795497.0', '57816904.0', '32083467.0', '74984756.0', '58245197.0', '65417582.0', '54852673.0', '69706696.0', '65955315.0', '69605656.0', '74695450.0', '66220779.0', '83447961.0', '28335044.0', '42319440.0', '60053415.0', '32790096.0', '3117356.0', '29296604.0', '26900165.0', '17593941.0', '63433384.0', '45430368.0', '60495805.0', '64318277.0', '69280534.0', '65581888.0', '73444633.0', '61700059.0', '62832863.0', '60275043.0', '38904373.0', '74566546.0', '45967952.0', '34228721.0', '3017681.0', '27053288.0', '64410714.0', '78961172.0', '48982278.0', '54699317.0', '47068332.0', '2011413.0', '49597195.0', '62488802.0', '71106007.0', '20258723.0', '17555430.0', '75939797.0', '76430734.0', '76258215.0', '4480177.0', '77073169.0', '68091633.0', '51087612.0', '62945206.0', '18709701.0', '30607067.0', '55195896.0', '66278695.0', '68686218.0', '20826384.0', '60025659.0', '149675.0', '38331232.0', '34881871.0', '20019851.0', '66768169.0', '5445464.0', '52666281.0', '46626973.0', '77117152.0', '62391980.0', '55359661.0', '73704097.0', '63754059.0', '30475035.0', '54943952.0', '5269826.0', '27148513.0', '63531792.0', '1166.0', '11936215.0', '78981018.0', '32716950.0', '64335844.0', '51305991.0', '67892453.0', '41304772.0', '46912294.0', '23740781.0', '48026298.0', '40118532.0', '56000381.0', '66138807.0', '51905269.0', '58837017.0', '57063446.0', '62121138.0', '27136809.0', '59460227.0', '56825716.0', '51485921.0', '73137363.0', '83337248.0', '60191297.0', '57027475.0', '69739789.0', '39700409.0', '52539234.0', '67398771.0', '73158615.0', '34556094.0', '4556346.0', '78157146.0', '69661037.0', '64753975.0', '3727307.0', '66291041.0', '61792215.0', '77898772.0', '58596490.0', '58410146.0', '82026130.0', '54544961.0', '51878992.0', '51180606.0', '52961579.0', '26455951.0', '57064175.0', '57633730.0', '17547424.0', '59738461.0', '66860261.0', '68197859.0', '36240346.0', '59490369.0', '31713359.0', '73227471.0', '62341522.0', '69412050.0', '6118141.0', '67856435.0', '77969594.0', '58554435.0', '9377208.0', '38422553.0', '817066.0', '74936774.0', '55665683.0', '28754129.0', '1017515.0', '41161428.0', '38365759.0', '70726176.0', '52968281.0', '15941542.0', '47231823.0', '65699826.0', '14956507.0', '40258121.0', '71299546.0', '72985638.0', '42572458.0', '60790181.0', '57742567.0', '84639186.0', '40246734.0', '56980510.0', '65599311.0', '48147869.0', '73620166.0', '12506940.0', '21936444.0', '58671272.0', '46684633.0', '47479200.0', '78845562.0', '73063246.0', '66746286.0', '50396067.0', '77423994.0', '75756905.0', '54131068.0', '47349721.0', '55364403.0', '67061170.0', '47348308.0', '71793465.0', '73498284.0', '60325512.0', '80820999.0', '34810170.0', '50978474.0', '79237310.0', '16090040.0', '65455323.0', '77812367.0', '48845483.0', '67004765.0', '67771344.0', '64527736.0', '68348980.0', '33241678.0', '78330730.0', '75948691.0', '77022453.0', '70564355.0', '20322449.0', '48042702.0', '6924902.0', '19186998.0', '76836787.0', '6098666.0', '63119682.0', '60248260.0', '76152568.0', '62801250.0', '54357050.0', '54543915.0', '50445209.0', '69509829.0', '65956507.0', '63448470.0', '25856594.0', '60211101.0', '80548680.0', '68800549.0', '47112177.0', '65923621.0', '57609397.0', '54095408.0', '56646145.0', '59962739.0', '67959319.0', '46900727.0', '59359375.0', '60909833.0', '68956083.0', '65326277.0', '25659974.0', '42434111.0', '10748247.0', '36129071.0', '13245116.0', '44287968.0', '57771928.0', '37823563.0', '34551346.0', '36608604.0', '29037973.0', '78744658.0', '10247138.0', '5311806.0', '60468609.0', '58861100.0', '77728357.0', '53978645.0', '20843044.0', '66332358.0', '63687177.0', '22003798.0', '30874529.0', '53701448.0', '66132747.0', '39126935.0', '58030595.0', '57715665.0', '32410781.0', '32171272.0', '4368539.0', '53221015.0', '78221510.0', '64679318.0', '57198434.0', '56754077.0', '26558523.0', '61121360.0', '57834468.0', '13901309.0', '26149859.0', '17274283.0', '22564987.0', '67916087.0'}\n",
      "5a70d1d210f40f00018be8d9\n",
      "{'11850223.0', '81802731.0', '65347022.0', '25873559.0', '8310385.0', '75770337.0', '3180703.0', '31003504.0', '64522806.0', '67997326.0', '65155394.0', '45607480.0', '68615865.0', '65990911.0', '65974261.0', '48878786.0', '66854707.0', '56740311.0', '65314466.0', '66223999.0', '65553328.0', '28441779.0', '19300451.0', '73928952.0', '74862861.0', '13086955.0', '43922971.0', '67931233.0', '64939991.0', '63446969.0', '15040677.0', '56878135.0', '76464408.0', '68890766.0', '53616761.0', '68085358.0', '4057582.0', '66138807.0', '66081966.0', '8879186.0', '51878992.0', '72450144.0', '964814.0', '57059900.0', '63140952.0', '21611172.0', '26891085.0', '13178540.0', '1608218.0', '26605787.0', '40955512.0', '74334942.0', '60180249.0', '80335885.0', '62573577.0'}\n",
      "5a70d1ad10f40f00018be8d8\n",
      "{'71714676.0', '54612460.0', '27120325.0', '6056247.0', '82778138.0', '45964482.0', '58364898.0', '64965991.0', '84658777.0', '82409470.0', '66266824.0', '41819792.0', '75750501.0', '84660480.0', '77369315.0', '72961932.0', '47683892.0', '60242243.0', '49405913.0', '56373426.0', '72433316.0', '66207720.0', '70604716.0', '53508667.0', '54326972.0', '60566242.0', '79006520.0', '80702173.0', '32142703.0', '23994784.0', '31594790.0', '58303694.0', '71709728.0', '76794305.0', '63510561.0', '72032426.0', '63582179.0', '4728964.0', '41847830.0', '84658147.0', '79779699.0', '50711166.0', '2131401.0', '60528950.0', '63622562.0', '15802128.0', '78732199.0', '63794670.0', '54343650.0', '62547744.0', '79843240.0', '60898199.0', '55663429.0', '69956494.0', '9747977.0', '82670282.0', '74750314.0'}\n"
     ]
    }
   ],
   "source": [
    "articles_to_commenters = {articles[ID][\"articleID\"]:set({}) for ID in articles}\n",
    "users = {}\n",
    "for ID in comments:\n",
    "    articleID = comments[ID][\"articleID\"]\n",
    "    userID = comments[ID][\"userID\"]\n",
    "    userTitle  = \"unknown\"\n",
    "    userLocation = \"unknown\"\n",
    "    if \"userTitle\" in comments[ID].keys():\n",
    "        userTitle = comments[ID][\"userTitle\"]\n",
    "    if \"userLocation\" in comments[ID].keys():\n",
    "        userLocation = comments[ID][\"userLocation\"]\n",
    "        \n",
    "    users[userID] = {\"userTitle\":userTitle, \"location\":userLocation}    \n",
    "    articles_to_commenters[articleID].add(userID)\n",
    "    \n",
    "\n",
    "    \n",
    "print(f'{len(users)} users found')\n",
    "\n",
    "for i, ID in enumerate(users):\n",
    "    print(ID)\n",
    "    print(users[ID])\n",
    "    if i==5:\n",
    "        break\n",
    "\n",
    "for i, ID in enumerate(articles_to_commenters):\n",
    "    print(ID)\n",
    "    print(articles_to_commenters[ID])\n",
    "    if i==5:\n",
    "        break"
   ]
  },
  {
   "cell_type": "code",
   "execution_count": 85,
   "id": "a4819b42",
   "metadata": {},
   "outputs": [
    {
     "data": {
      "text/plain": [
       "Hypergraph({'a': Entity(a,[1, 2],{'weight': 1.0}), 'b': Entity(b,[2, 3],{'weight': 1.0})},name=)"
      ]
     },
     "execution_count": 85,
     "metadata": {},
     "output_type": "execute_result"
    }
   ],
   "source": [
    "a = hnx.Entity('a',{1,2})\n",
    "b = hnx.Entity('b',{2,3})\n",
    "E = hnx.EntitySet('sample',elements=[a,b])\n",
    "H =hnx.Hypergraph(E)\n",
    "hnx.Hypergraph(E)\n",
    "\n"
   ]
  },
  {
   "cell_type": "code",
   "execution_count": 86,
   "id": "555e89c7",
   "metadata": {},
   "outputs": [
    {
     "data": {
      "text/plain": [
       "EntitySet(:Edges,['a', 'b'],{'weight': 1.0})"
      ]
     },
     "execution_count": 86,
     "metadata": {},
     "output_type": "execute_result"
    }
   ],
   "source": [
    "hnx.Hypergraph(E).edges"
   ]
  },
  {
   "cell_type": "code",
   "execution_count": 87,
   "id": "e09be169",
   "metadata": {},
   "outputs": [
    {
     "data": {
      "image/png": "[encoded data removed]",
      "text/plain": [
       "<Figure size 576x576 with 1 Axes>"
      ]
     },
     "metadata": {
      "needs_background": "light"
     },
     "output_type": "display_data"
    }
   ],
   "source": [
    "hnx.drawing.rubber_band.draw(H)"
   ]
  },
  {
   "cell_type": "code",
   "execution_count": 88,
   "id": "9fc37871",
   "metadata": {},
   "outputs": [],
   "source": [
    "entities = []\n",
    "for articleID in articles_to_commenters:\n",
    "    entities.append(hnx.Entity(articleID,articles_to_commenters[articleID]))\n",
    "    \n",
    "E = hnx.EntitySet('articles_commenters',elements=entities)\n",
    "H = hnx.Hypergraph(E)"
   ]
  },
  {
   "cell_type": "code",
   "execution_count": null,
   "id": "efe74472",
   "metadata": {},
   "outputs": [],
   "source": [
    "hnx.drawing.rubber_band.draw(H)"
   ]
  }
 ],
 "metadata": {
  "kernelspec": {
   "display_name": "Python 3 (ipykernel)",
   "language": "python",
   "name": "python3"
  },
  "language_info": {
   "codemirror_mode": {
    "name": "ipython",
    "version": 3
   },
   "file_extension": ".py",
   "mimetype": "text/x-python",
   "name": "python",
   "nbconvert_exporter": "python",
   "pygments_lexer": "ipython3",
   "version": "3.9.12"
  }
 },
 "nbformat": 4,
 "nbformat_minor": 5
}
