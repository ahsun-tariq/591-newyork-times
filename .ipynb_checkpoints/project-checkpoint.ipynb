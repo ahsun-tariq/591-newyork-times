{
 "cells": [
  {
   "cell_type": "code",
   "execution_count": 1,
   "id": "f248a9ba",
   "metadata": {},
   "outputs": [],
   "source": [
    "# import nwhy\n",
    "import hypernetx as hnx\n",
    "import networkx as nx\n",
    "from networkx import Graph\n",
    "import os\n",
    "import numpy as np\n",
    "import csv\n",
    "import pickle\n",
    "import json"
   ]
  },
  {
   "cell_type": "code",
   "execution_count": 2,
   "id": "8968f02b",
   "metadata": {},
   "outputs": [],
   "source": [
    "path = r'./archive'"
   ]
  },
  {
   "cell_type": "code",
   "execution_count": 3,
   "id": "a3b3175e",
   "metadata": {},
   "outputs": [
    {
     "name": "stdout",
     "output_type": "stream",
     "text": [
      "['ArticlesFeb2017.csv', 'CommentsFeb2018.csv', 'ArticlesApril2017.csv', 'CommentsApril2018.csv', 'ArticlesMarch2018.csv', 'CommentsMarch2017.csv', 'ArticlesMay2017.csv', 'ArticlesJan2017.csv', 'CommentsJan2018.csv', 'CommentsMarch2018.csv', 'ArticlesJan2018.csv', 'CommentsMay2017.csv', 'CommentsJan2017.csv', 'ArticlesMarch2017.csv', 'CommentsApril2017.csv', 'ArticlesFeb2018.csv', 'CommentsFeb2017.csv', 'ArticlesApril2018.csv']\n"
     ]
    }
   ],
   "source": [
    "print(os.listdir(path))"
   ]
  },
  {
   "cell_type": "code",
   "execution_count": 4,
   "id": "48ab3515",
   "metadata": {},
   "outputs": [
    {
     "name": "stdout",
     "output_type": "stream",
     "text": [
      "['./archive/ArticlesJan2018.csv', './archive/ArticlesFeb2018.csv', './archive/ArticlesMarch2018.csv']\n",
      "['./archive/CommentsJan2018.csv', './archive/CommentsFeb2018.csv', './archive/CommentsMarch2018.csv']\n"
     ]
    }
   ],
   "source": [
    "paths_articles = []\n",
    "paths_comments = []\n",
    "\n",
    "articles_file_path_jan = path + '/' +'ArticlesJan2018.csv'\n",
    "paths_articles.append(articles_file_path_jan)\n",
    "comments_file_path_jan = path + '/' + 'CommentsJan2018.csv'\n",
    "paths_comments.append(comments_file_path_jan)\n",
    "\n",
    "articles_file_path_feb = path + '/' +'ArticlesFeb2018.csv'\n",
    "paths_articles.append(articles_file_path_feb)\n",
    "comments_file_path_feb = path + '/' + 'CommentsFeb2018.csv'\n",
    "paths_comments.append(comments_file_path_feb)\n",
    "\n",
    "\n",
    "articles_file_path_march = path + '/' +'ArticlesMarch2018.csv'\n",
    "paths_articles.append(articles_file_path_march)\n",
    "comments_file_path_march = path + '/' + 'CommentsMarch2018.csv'\n",
    "paths_comments.append(comments_file_path_march)\n",
    "\n",
    "articles_file_path_april = path + '/' +'ArticlesApril2018.csv'\n",
    "# paths_articles.append(articles_file_path_april)\n",
    "comments_file_path_april = path + '/' + 'CommentsApril2018.csv'\n",
    "# paths_comments.append(comments_file_path_april)\n",
    "\n",
    "print(paths_articles)\n",
    "print(paths_comments)"
   ]
  },
  {
   "cell_type": "code",
   "execution_count": 5,
   "id": "363be082",
   "metadata": {},
   "outputs": [],
   "source": [
    "def createDictionary(array_of_dictionaries):\n",
    "    dictionary = array_of_dictionaries[0]\n",
    "    for i in range(1, len(array_of_dictionaries)):\n",
    "        dictionary.update(array_of_dictionaries[i])\n",
    "    return dictionary\n",
    "        "
   ]
  },
  {
   "cell_type": "code",
   "execution_count": 6,
   "id": "2782ee29",
   "metadata": {},
   "outputs": [
    {
     "name": "stdout",
     "output_type": "stream",
     "text": [
      "3445\n",
      "3445\n"
     ]
    }
   ],
   "source": [
    "articles  = {}\n",
    "count = 0\n",
    "for articles_file_path in paths_articles:\n",
    "\n",
    "    with open(articles_file_path, \"r\",encoding=\"utf-8\",newline=\"\") as f:\n",
    "        csv_reader = csv.reader(f, delimiter=\",\")\n",
    "        header = next(csv_reader)\n",
    "        record = [{field:None} for field in header]\n",
    "        index = 0\n",
    "        for i,item in enumerate(record):\n",
    "            if(list(item.keys())[0]) == \"articleID\":\n",
    "                index =i\n",
    "        for row in csv_reader:\n",
    "            record = [{field:None} for field in header]\n",
    "            for i, item in enumerate(row):\n",
    "                record[i][list(record[i].keys())[0]] = item\n",
    "            articles[row[index]]= createDictionary(record)\n",
    "            count += 1\n",
    "print(count)\n",
    "print(len(articles))"
   ]
  },
  {
   "cell_type": "code",
   "execution_count": 7,
   "id": "60040179",
   "metadata": {},
   "outputs": [
    {
     "name": "stdout",
     "output_type": "stream",
     "text": [
      "loaded articles from articles.pickle..\n",
      "3445\n"
     ]
    }
   ],
   "source": [
    "files = os.listdir()\n",
    "if not \"articles.pickle\" in files:\n",
    "    with open('articles.pickle', 'wb') as f:\n",
    "        print(\"dumping articles into articles.pickle....\")\n",
    "        pickle.dump(articles, f)\n",
    "else:\n",
    "    with open(\"articles.pickle\", \"rb\") as f:\n",
    "        print(\"loaded articles from articles.pickle..\")\n",
    "        articles = pickle.load(f)\n",
    "print(len(articles))\n"
   ]
  },
  {
   "cell_type": "code",
   "execution_count": 8,
   "id": "7e2dd36a",
   "metadata": {},
   "outputs": [
    {
     "name": "stdout",
     "output_type": "stream",
     "text": [
      "5a7101c110f40f00018be961\n",
      "{'abstract': '', 'articleID': '5a7101c110f40f00018be961', 'articleWordCount': '1322', 'byline': 'By SHANNON SIMS', 'documentType': 'article', 'headline': 'Rhythm of the Streets: ‘We’re Warrior Women, and Yes, We Can Play’', 'keywords': \"['Bahia (Brazil)', 'Music', 'Women and Girls', 'Banda Dida (Music Group)', 'Drums', 'Carnival (Pre-Lenten)']\", 'multimedia': '68', 'newDesk': 'Travel', 'printPage': '5', 'pubDate': '2018-01-30 23:37:31', 'sectionName': 'Unknown', 'snippet': 'Meet the all-female Brazilian drum group that is challenging gender norms.', 'source': 'The New York Times', 'typeOfMaterial': 'News', 'webURL': 'https://www.nytimes.com/2018/01/30/travel/brazil-all-female-drums-bahia-banda-dida.html'}\n",
      "5a70fc1210f40f00018be950\n",
      "{'abstract': '', 'articleID': '5a70fc1210f40f00018be950', 'articleWordCount': '1308', 'byline': 'By ALAN RAPPEPORT and THOMAS KAPLAN', 'documentType': 'article', 'headline': 'As Deficit Grows, Congress Keeps Spending', 'keywords': \"['United States Politics and Government', 'Federal Budget (US)', 'Federal Taxes (US)', 'National Debt (US)', 'Infrastructure (Public Works)', 'Trump, Donald J']\", 'multimedia': '68', 'newDesk': 'Washington', 'printPage': '17', 'pubDate': '2018-01-30 23:13:14', 'sectionName': 'Politics', 'snippet': 'Treasury Secretary Steven Mnuchin urged Congress to lift the debt ceiling as lawmakers embark on a spending spree.', 'source': 'The New York Times', 'typeOfMaterial': 'News', 'webURL': 'https://www.nytimes.com/2018/01/30/us/politics/federal-deficit-1-trillion.html'}\n",
      "5a70f8f810f40f00018be943\n",
      "{'abstract': '', 'articleID': '5a70f8f810f40f00018be943', 'articleWordCount': '228', 'byline': 'By JANE LANG', 'documentType': 'article', 'headline': 'Lesson in Select Bus Service', 'keywords': \"['Buses', 'Pennsylvania Station (Manhattan, NY)', 'New York City']\", 'multimedia': '0', 'newDesk': 'Metro', 'printPage': '16', 'pubDate': '2018-01-30 23:00:01', 'sectionName': 'Unknown', 'snippet': 'A woman finds out what happens when you don’t pay your fare before boarding.', 'source': 'The New York Times', 'typeOfMaterial': 'News', 'webURL': 'https://www.nytimes.com/2018/01/30/nyregion/metropolitan-diary-lesson-in-select-bus-service.html'}\n",
      "5a70eb8110f40f00018be925\n",
      "{'abstract': '', 'articleID': '5a70eb8110f40f00018be925', 'articleWordCount': '1114', 'byline': 'By THE EDITORIAL BOARD', 'documentType': 'article', 'headline': 'Here’s the Real State of the Union', 'keywords': \"['State of the Union Message (US)', 'Trump, Donald J', 'United States Politics and Government', 'United States International Relations']\", 'multimedia': '61', 'newDesk': 'Editorial', 'printPage': '24', 'pubDate': '2018-01-30 22:02:36', 'sectionName': 'Editorials', 'snippet': 'The reaction against his authoritarian impulses, assault on truth and cruelties great and petty has revealed abiding American strengths.', 'source': 'The New York Times', 'typeOfMaterial': 'Editorial', 'webURL': 'https://www.nytimes.com/2018/01/30/opinion/editorials/donald-trump-sotu-boasting.html'}\n",
      "5a70d1d210f40f00018be8d9\n",
      "{'abstract': '', 'articleID': '5a70d1d210f40f00018be8d9', 'articleWordCount': '777', 'byline': 'By BERT STRATTON', 'documentType': 'article', 'headline': 'Good Riddance to Chief Wahoo', 'keywords': \"['Baseball', 'Cleveland Indians', 'Western Reserve Historical Society', 'Cleveland (Ohio)']\", 'multimedia': '68', 'newDesk': 'OpEd', 'printPage': '0', 'pubDate': '2018-01-30 20:13:01', 'sectionName': 'Unknown', 'snippet': 'I’ve lived in Cleveland all my life, and I’m glad to see the racist mascot go.', 'source': 'The New York Times', 'typeOfMaterial': 'Op-Ed', 'webURL': 'https://www.nytimes.com/2018/01/30/opinion/chief-wahoo-cleveland.html'}\n"
     ]
    }
   ],
   "source": [
    "count = 0\n",
    "for ID in articles:\n",
    "    print(ID)\n",
    "    print(articles[ID])\n",
    "    count +=1\n",
    "    if count==5:\n",
    "        break\n",
    "    "
   ]
  },
  {
   "cell_type": "code",
   "execution_count": 9,
   "id": "428e661e",
   "metadata": {},
   "outputs": [
    {
     "name": "stdout",
     "output_type": "stream",
     "text": [
      "665396\n",
      "total comments: 640904\n"
     ]
    }
   ],
   "source": [
    "comments = {}\n",
    "num = 0\n",
    "for comments_file_path in paths_comments:\n",
    "    with open(comments_file_path, \"r\",encoding=\"utf-8\",newline=\"\") as f:\n",
    "        csv_reader = csv.reader(f, delimiter=\",\")\n",
    "        header = next(csv_reader)\n",
    "        record = [{field:None} for field in header]\n",
    "        index = 4\n",
    "        for i,item in enumerate(record):\n",
    "            if(list(item.keys())[0]) == \"commentID\":\n",
    "                index =i\n",
    "        for row in csv_reader:\n",
    "            num+=1\n",
    "            record = [{field:None} for field in header]\n",
    "            for i, item in enumerate(row):\n",
    "                record[i][list(record[i].keys())[0]] = item\n",
    "            dictionary = createDictionary(record)\n",
    "            if dictionary[\"articleID\"] in articles.keys():\n",
    "                comments[str(row[index])] = dictionary\n",
    "            \n",
    "print(num)\n",
    "print(f'total comments: {len(comments)}')"
   ]
  },
  {
   "cell_type": "code",
   "execution_count": 10,
   "id": "f84c9415",
   "metadata": {},
   "outputs": [
    {
     "name": "stdout",
     "output_type": "stream",
     "text": [
      "loaded comments from comments.pickle..\n",
      "640904\n"
     ]
    }
   ],
   "source": [
    "files = os.listdir()\n",
    "if not \"comments.pickle\" in files:\n",
    "    with open('comments.pickle', 'wb') as f:\n",
    "        print(\"dumping comments into comments.pickle....\")\n",
    "        pickle.dump(comments, f)\n",
    "else:\n",
    "    with open(\"comments.pickle\", \"rb\") as f:\n",
    "        print(\"loaded comments from comments.pickle..\")\n",
    "        comments = pickle.load(f)\n",
    "        \n",
    "print(len(comments))"
   ]
  },
  {
   "cell_type": "code",
   "execution_count": 11,
   "id": "d3ab82f4",
   "metadata": {},
   "outputs": [
    {
     "name": "stdout",
     "output_type": "stream",
     "text": [
      "26156416.0\n",
      "{'approveDate': '1519852022', 'articleID': '5a7101c110f40f00018be961', 'articleWordCount': '1322', 'commentBody': 'I typically strongly dislike articles which bring up such tiny disadvantages to women. But this article I liked. It mentioned, “with many female politicians being replaced by male lawmakers who have pushed for legislation to limit women’s access to abortion,” which would normally tick my non-feminist self off in a regular old article, but I feel as though the beating of their drums are beating a new perspective in my heart. The Bahia group is going against cultural norms by becoming the “first all-female bloco-afro in Brazil” and that problem was certainly not tiny. They are drumming for their rights as women. They are drumming for their rights of their race. This article has influenced me to stand for any matter I want to defend with determination just as these women did in Banda Dida.', 'commentID': '26156416.0', 'commentSequence': '26156416.0', 'commentTitle': '<br/>', 'commentType': 'comment', 'createDate': '1519849555', 'depth': '1.0', 'editorsSelection': 'False', 'inReplyTo': '0', 'newDesk': 'Travel', 'parentID': '0.0', 'parentUserDisplayName': '', 'permID': '26156416', 'picURL': 'https://graphics8.nytimes.com/images/apps/timespeople/none.png', 'printPage': '5', 'recommendations': '1', 'recommendedFlag': '', 'replyCount': '0', 'reportAbuseFlag': '', 'sectionName': 'Unknown', 'sharing': '0', 'status': 'approved', 'timespeople': '0', 'trusted': '0', 'typeOfMaterial': 'News', 'updateDate': '1519852022', 'userDisplayName': 'Emma Claire Lisk', 'userID': '83288014.0', 'userLocation': 'Wilmington, NC', 'userTitle': '', 'userURL': ''}\n",
      "25930059.0\n",
      "{'approveDate': '1518469135', 'articleID': '5a7101c110f40f00018be961', 'articleWordCount': '1322', 'commentBody': \"I went to Cuba twice in 1998-9 to study Afro-Cuban drumming.  I am a woman.  I didn't experience any prejudice--I suppose money silences that--but we also visited Matanzas, where we listened to stellar drummers in the home of a woman who was the leader of the group.  Unusual, not unheard of.\", 'commentID': '25930059.0', 'commentSequence': '25930059.0', 'commentTitle': '<br/>', 'commentType': 'comment', 'createDate': '1518458548', 'depth': '1.0', 'editorsSelection': 'False', 'inReplyTo': '0', 'newDesk': 'Travel', 'parentID': '0.0', 'parentUserDisplayName': '', 'permID': '25930059', 'picURL': 'https://graphics8.nytimes.com/images/apps/timespeople/none.png', 'printPage': '5', 'recommendations': '0', 'recommendedFlag': '', 'replyCount': '0', 'reportAbuseFlag': '', 'sectionName': 'Unknown', 'sharing': '0', 'status': 'approved', 'timespeople': '1', 'trusted': '0', 'typeOfMaterial': 'News', 'updateDate': '1518469135', 'userDisplayName': 'Eyes Open', 'userID': '53167641.0', 'userLocation': 'San Francisco', 'userTitle': '', 'userURL': ''}\n",
      "25912292.0\n",
      "{'approveDate': '1518385379', 'articleID': '5a7101c110f40f00018be961', 'articleWordCount': '1322', 'commentBody': 'I don\\'t think this is really all that new: I was in Salvador, Brasil in August 2013.  There was an all female drumming group that performed near the Pelourinho that blew the crowd away with their energy and skill.  Perhaps it wasn\\'t \"Dida\" that I saw, but it was a large organized group of women drummers.', 'commentID': '25912292.0', 'commentSequence': '25912292.0', 'commentTitle': '<br/>', 'commentType': 'comment', 'createDate': '1518304930', 'depth': '1.0', 'editorsSelection': 'False', 'inReplyTo': '0', 'newDesk': 'Travel', 'parentID': '0.0', 'parentUserDisplayName': '', 'permID': '25912292', 'picURL': 'https://graphics8.nytimes.com/images/apps/timespeople/none.png', 'printPage': '5', 'recommendations': '1', 'recommendedFlag': '', 'replyCount': '1', 'reportAbuseFlag': '', 'sectionName': 'Unknown', 'sharing': '1', 'status': 'approved', 'timespeople': '1', 'trusted': '0', 'typeOfMaterial': 'News', 'updateDate': '1518385379', 'userDisplayName': 'Mark Pepp', 'userID': '44043675.0', 'userLocation': 'Chicago', 'userTitle': '', 'userURL': ''}\n",
      "25864174.0\n",
      "{'approveDate': '1517986719', 'articleID': '5a7101c110f40f00018be961', 'articleWordCount': '1322', 'commentBody': 'I was in Salvador last month and got to see Dida before attending the ballet show in pelourinho. THEY ARE AMAZING and I’m excited to return and go to one of their performances. I’ve always admired female drummers.', 'commentID': '25864174.0', 'commentSequence': '25864174.0', 'commentTitle': '<br/>', 'commentType': 'comment', 'createDate': '1517980671', 'depth': '1.0', 'editorsSelection': 'False', 'inReplyTo': '0', 'newDesk': 'Travel', 'parentID': '0.0', 'parentUserDisplayName': '', 'permID': '25864174', 'picURL': 'https://graphics8.nytimes.com/images/apps/timespeople/none.png', 'printPage': '5', 'recommendations': '0', 'recommendedFlag': '', 'replyCount': '0', 'reportAbuseFlag': '', 'sectionName': 'Unknown', 'sharing': '0', 'status': 'approved', 'timespeople': '0', 'trusted': '0', 'typeOfMaterial': 'News', 'updateDate': '1517986719', 'userDisplayName': 'Devonta', 'userID': '84748907.0', 'userLocation': 'New York, NY', 'userTitle': '', 'userURL': ''}\n",
      "25855991.0\n",
      "{'approveDate': '1517945037', 'articleID': '5a7101c110f40f00018be961', 'articleWordCount': '1322', 'commentBody': \"Why is it that men take it upon themselves to (try to) determine where and in what capacity women can exist?  Listen up men, we've had enough of your controlling behavior and we're not going to take it any more.  Time's up!\", 'commentID': '25855991.0', 'commentSequence': '25855991.0', 'commentTitle': '<br/>', 'commentType': 'comment', 'createDate': '1517938058', 'depth': '1.0', 'editorsSelection': 'False', 'inReplyTo': '0', 'newDesk': 'Travel', 'parentID': '0.0', 'parentUserDisplayName': '', 'permID': '25855991', 'picURL': 'https://graphics8.nytimes.com/images/apps/timespeople/none.png', 'printPage': '5', 'recommendations': '12', 'recommendedFlag': '', 'replyCount': '0', 'reportAbuseFlag': '', 'sectionName': 'Unknown', 'sharing': '0', 'status': 'approved', 'timespeople': '1', 'trusted': '0', 'typeOfMaterial': 'News', 'updateDate': '1517945037', 'userDisplayName': 'EDC', 'userID': '25854823.0', 'userLocation': 'Colorado', 'userTitle': '', 'userURL': ''}\n"
     ]
    }
   ],
   "source": [
    "count = 0\n",
    "for ID in comments:\n",
    "    print(ID)\n",
    "    print(comments[ID])\n",
    "    count +=1\n",
    "    if count==5:\n",
    "        break"
   ]
  },
  {
   "cell_type": "code",
   "execution_count": 12,
   "id": "506c3f95",
   "metadata": {},
   "outputs": [],
   "source": [
    "for commentID in comments:\n",
    "    articleID = comments[commentID][\"articleID\"] \n",
    "    if not \"num_comments\" in articles[articleID]:\n",
    "        articles[articleID][\"num_comments\"] = 1\n",
    "    else:\n",
    "        articles[articleID][\"num_comments\"] += 1\n",
    "\n"
   ]
  },
  {
   "cell_type": "code",
   "execution_count": 13,
   "id": "94456e5d",
   "metadata": {},
   "outputs": [
    {
     "name": "stdout",
     "output_type": "stream",
     "text": [
      "{'abstract': '', 'articleID': '5a7101c110f40f00018be961', 'articleWordCount': '1322', 'byline': 'By SHANNON SIMS', 'documentType': 'article', 'headline': 'Rhythm of the Streets: ‘We’re Warrior Women, and Yes, We Can Play’', 'keywords': \"['Bahia (Brazil)', 'Music', 'Women and Girls', 'Banda Dida (Music Group)', 'Drums', 'Carnival (Pre-Lenten)']\", 'multimedia': '68', 'newDesk': 'Travel', 'printPage': '5', 'pubDate': '2018-01-30 23:37:31', 'sectionName': 'Unknown', 'snippet': 'Meet the all-female Brazilian drum group that is challenging gender norms.', 'source': 'The New York Times', 'typeOfMaterial': 'News', 'webURL': 'https://www.nytimes.com/2018/01/30/travel/brazil-all-female-drums-bahia-banda-dida.html', 'num_comments': 25}\n",
      "{'abstract': '', 'articleID': '5a70fc1210f40f00018be950', 'articleWordCount': '1308', 'byline': 'By ALAN RAPPEPORT and THOMAS KAPLAN', 'documentType': 'article', 'headline': 'As Deficit Grows, Congress Keeps Spending', 'keywords': \"['United States Politics and Government', 'Federal Budget (US)', 'Federal Taxes (US)', 'National Debt (US)', 'Infrastructure (Public Works)', 'Trump, Donald J']\", 'multimedia': '68', 'newDesk': 'Washington', 'printPage': '17', 'pubDate': '2018-01-30 23:13:14', 'sectionName': 'Politics', 'snippet': 'Treasury Secretary Steven Mnuchin urged Congress to lift the debt ceiling as lawmakers embark on a spending spree.', 'source': 'The New York Times', 'typeOfMaterial': 'News', 'webURL': 'https://www.nytimes.com/2018/01/30/us/politics/federal-deficit-1-trillion.html', 'num_comments': 111}\n",
      "{'abstract': '', 'articleID': '5a70f8f810f40f00018be943', 'articleWordCount': '228', 'byline': 'By JANE LANG', 'documentType': 'article', 'headline': 'Lesson in Select Bus Service', 'keywords': \"['Buses', 'Pennsylvania Station (Manhattan, NY)', 'New York City']\", 'multimedia': '0', 'newDesk': 'Metro', 'printPage': '16', 'pubDate': '2018-01-30 23:00:01', 'sectionName': 'Unknown', 'snippet': 'A woman finds out what happens when you don’t pay your fare before boarding.', 'source': 'The New York Times', 'typeOfMaterial': 'News', 'webURL': 'https://www.nytimes.com/2018/01/30/nyregion/metropolitan-diary-lesson-in-select-bus-service.html', 'num_comments': 10}\n",
      "{'abstract': '', 'articleID': '5a70eb8110f40f00018be925', 'articleWordCount': '1114', 'byline': 'By THE EDITORIAL BOARD', 'documentType': 'article', 'headline': 'Here’s the Real State of the Union', 'keywords': \"['State of the Union Message (US)', 'Trump, Donald J', 'United States Politics and Government', 'United States International Relations']\", 'multimedia': '61', 'newDesk': 'Editorial', 'printPage': '24', 'pubDate': '2018-01-30 22:02:36', 'sectionName': 'Editorials', 'snippet': 'The reaction against his authoritarian impulses, assault on truth and cruelties great and petty has revealed abiding American strengths.', 'source': 'The New York Times', 'typeOfMaterial': 'Editorial', 'webURL': 'https://www.nytimes.com/2018/01/30/opinion/editorials/donald-trump-sotu-boasting.html', 'num_comments': 639}\n",
      "{'abstract': '', 'articleID': '5a70d1d210f40f00018be8d9', 'articleWordCount': '777', 'byline': 'By BERT STRATTON', 'documentType': 'article', 'headline': 'Good Riddance to Chief Wahoo', 'keywords': \"['Baseball', 'Cleveland Indians', 'Western Reserve Historical Society', 'Cleveland (Ohio)']\", 'multimedia': '68', 'newDesk': 'OpEd', 'printPage': '0', 'pubDate': '2018-01-30 20:13:01', 'sectionName': 'Unknown', 'snippet': 'I’ve lived in Cleveland all my life, and I’m glad to see the racist mascot go.', 'source': 'The New York Times', 'typeOfMaterial': 'Op-Ed', 'webURL': 'https://www.nytimes.com/2018/01/30/opinion/chief-wahoo-cleveland.html', 'num_comments': 80}\n"
     ]
    }
   ],
   "source": [
    "count = 0\n",
    "for ID in articles:\n",
    "    print(articles[ID])\n",
    "    count +=1\n",
    "    if count==5:\n",
    "        break"
   ]
  },
  {
   "cell_type": "code",
   "execution_count": 14,
   "id": "5c36cf97",
   "metadata": {},
   "outputs": [
    {
     "name": "stdout",
     "output_type": "stream",
     "text": [
      "640904\n",
      "{'articleID': '5aba12a547de81a901217c97', 'byline': 'By JOHN PAUL STEVENS', 'documentType': 'article', 'headline': 'Repeal the Second Amendment', 'keywords': \"['Gun Control', 'Second Amendment (US Constitution)', 'Law and Legislation', 'Supreme Court (US)']\", 'multimedia': '1', 'newDesk': 'OpEd', 'printPage': '23', 'pubDate': '2018-03-27 09:45:06', 'sectionName': 'Unknown', 'snippet': 'This weekend’s marches make it clear: To enact real gun control, we need to change the Constitution.', 'source': 'The New York Times', 'typeOfMaterial': 'Op-Ed', 'webURL': 'https://www.nytimes.com/2018/03/27/opinion/john-paul-stevens-repeal-second-amendment.html', 'articleWordCount': '539', 'num_comments': 2927}\n",
      "2927\n"
     ]
    }
   ],
   "source": [
    "total_comments = 0\n",
    "article_with_most_comments = {}\n",
    "maxnum = 0\n",
    "for articleID in articles:\n",
    "    total_comments += articles[articleID][\"num_comments\"]\n",
    "    if articles[articleID][\"num_comments\"] > maxnum:\n",
    "        maxnum = articles[articleID][\"num_comments\"]\n",
    "        article_with_most_comments = articles[articleID]\n",
    "print(total_comments)\n",
    "print(article_with_most_comments)\n",
    "print(maxnum)"
   ]
  },
  {
   "cell_type": "code",
   "execution_count": 15,
   "id": "85a55789",
   "metadata": {},
   "outputs": [
    {
     "ename": "NameError",
     "evalue": "name 'articles_to_commenters' is not defined",
     "output_type": "error",
     "traceback": [
      "\u001b[0;31m---------------------------------------------------------------------------\u001b[0m",
      "\u001b[0;31mNameError\u001b[0m                                 Traceback (most recent call last)",
      "Input \u001b[0;32mIn [15]\u001b[0m, in \u001b[0;36m<cell line: 2>\u001b[0;34m()\u001b[0m\n\u001b[1;32m     10\u001b[0m         userLocation \u001b[38;5;241m=\u001b[39m comments[ID][\u001b[38;5;124m\"\u001b[39m\u001b[38;5;124muserLocation\u001b[39m\u001b[38;5;124m\"\u001b[39m]\n\u001b[1;32m     12\u001b[0m     users[userID] \u001b[38;5;241m=\u001b[39m {\u001b[38;5;124m\"\u001b[39m\u001b[38;5;124muserTitle\u001b[39m\u001b[38;5;124m\"\u001b[39m:userTitle, \u001b[38;5;124m\"\u001b[39m\u001b[38;5;124mlocation\u001b[39m\u001b[38;5;124m\"\u001b[39m:userLocation}    \n\u001b[0;32m---> 13\u001b[0m     \u001b[43marticles_to_commenters\u001b[49m[articleID]\u001b[38;5;241m.\u001b[39madd(userID)\n\u001b[1;32m     17\u001b[0m \u001b[38;5;28mprint\u001b[39m(\u001b[38;5;124mf\u001b[39m\u001b[38;5;124m'\u001b[39m\u001b[38;5;132;01m{\u001b[39;00m\u001b[38;5;28mlen\u001b[39m(users)\u001b[38;5;132;01m}\u001b[39;00m\u001b[38;5;124m users found\u001b[39m\u001b[38;5;124m'\u001b[39m)\n\u001b[1;32m     19\u001b[0m \u001b[38;5;28;01mfor\u001b[39;00m i, ID \u001b[38;5;129;01min\u001b[39;00m \u001b[38;5;28menumerate\u001b[39m(users):\n",
      "\u001b[0;31mNameError\u001b[0m: name 'articles_to_commenters' is not defined"
     ]
    }
   ],
   "source": [
    "articles_to_commenters = {articles[ID][\"articleID\"]:set({}) for ID in articles}\n",
    "users = {}\n",
    "for ID in comments:\n",
    "    articleID = comments[ID][\"articleID\"]\n",
    "    userID = comments[ID][\"userID\"]\n",
    "    userTitle  = \"unknown\"\n",
    "    userLocation = \"unknown\"\n",
    "    if \"userTitle\" in comments[ID].keys():\n",
    "        userTitle = comments[ID][\"userTitle\"]\n",
    "    if \"userLocation\" in comments[ID].keys():\n",
    "        userLocation = comments[ID][\"userLocation\"]\n",
    "        \n",
    "    users[userID] = {\"userTitle\":userTitle, \"location\":userLocation}    \n",
    "    articles_to_commenters[articleID].add(userID)\n",
    "    \n",
    "\n",
    "    \n",
    "print(f'{len(users)} users found')\n",
    "\n",
    "for i, ID in enumerate(users):\n",
    "    print(ID)\n",
    "    print(users[ID])\n",
    "    if i==5:\n",
    "        break\n",
    "\n",
    "for i, ID in enumerate(articles_to_commenters):\n",
    "    print(ID)\n",
    "    print(articles_to_commenters[ID])\n",
    "    if i==5:\n",
    "        break"
   ]
  },
  {
   "cell_type": "code",
   "execution_count": null,
   "id": "d8c71dac",
   "metadata": {},
   "outputs": [],
   "source": [
    "files = os.listdir()\n",
    "if not \"users.pickle\" in files:\n",
    "    with open('users.pickle', 'wb') as f:\n",
    "        print(\"dumping users into users.pickle....\")\n",
    "        pickle.dump(users, f)\n",
    "else:\n",
    "    with open(\"users.pickle\", \"rb\") as f:\n",
    "        print(\"loaded users from users.pickle..\")\n",
    "        users = pickle.load(f)\n",
    "print(type(users))"
   ]
  },
  {
   "cell_type": "code",
   "execution_count": null,
   "id": "e38607cd",
   "metadata": {},
   "outputs": [],
   "source": [
    "files = os.listdir()\n",
    "if not \"articles_to_commenters.pickle\" in files:\n",
    "    with open('articles_to_commenters.pickle', 'wb') as f:\n",
    "        print(\"dumping articles_to_commenters into articles_to_commenters.pickle....\")\n",
    "        pickle.dump(articles_to_commenters, f)\n",
    "else:\n",
    "    with open(\"articles_to_commenters.pickle\", \"rb\") as f:\n",
    "        print(\"loaded articles_to_commenters from articles_to_commenters.pickle..\")\n",
    "        articles_to_commenters = pickle.load(f)\n",
    "print(len(articles_to_commenters))"
   ]
  },
  {
   "cell_type": "code",
   "execution_count": null,
   "id": "9c175dc2",
   "metadata": {},
   "outputs": [],
   "source": [
    "a = hnx.Entity('a',{1,2})\n",
    "b = hnx.Entity('b',{2,3})\n",
    "c = hnx.Entity('c',{1,3})\n",
    "E = hnx.EntitySet('sample',elements=[a,b,c])\n",
    "H =hnx.Hypergraph(E, static = True)\n",
    "hnx.Hypergraph(E)\n",
    "\n"
   ]
  },
  {
   "cell_type": "code",
   "execution_count": null,
   "id": "69cc96ae",
   "metadata": {},
   "outputs": [],
   "source": [
    "hnx.Hypergraph(E).edges"
   ]
  },
  {
   "cell_type": "code",
   "execution_count": null,
   "id": "92f2463f",
   "metadata": {
    "scrolled": true
   },
   "outputs": [],
   "source": [
    "hnx.drawing.rubber_band.draw(H)"
   ]
  },
  {
   "cell_type": "code",
   "execution_count": null,
   "id": "ac0e29a6",
   "metadata": {},
   "outputs": [],
   "source": [
    "linegraph = H.get_linegraph(1, edges=True, use_nwhy=True)\n",
    "nx.draw(linegraph,with_labels = True)"
   ]
  },
  {
   "cell_type": "code",
   "execution_count": 103,
   "id": "3b845f81",
   "metadata": {},
   "outputs": [],
   "source": [
    "entities = []\n",
    "for articleID in articles_to_commenters:\n",
    "    entities.append(hnx.Entity(articleID,articles_to_commenters[articleID]))\n",
    "    \n",
    "E = hnx.EntitySet('articles_commenters',elements=entities)\n",
    "H = hnx.Hypergraph(E,static=True)"
   ]
  },
  {
   "cell_type": "code",
   "execution_count": 113,
   "id": "b38ddda2",
   "metadata": {},
   "outputs": [],
   "source": [
    "linegraph = H.get_linegraph(1, edges=True, use_nwhy=True)"
   ]
  },
  {
   "cell_type": "code",
   "execution_count": 36,
   "id": "abf5409d",
   "metadata": {},
   "outputs": [],
   "source": [
    "# hnx.drawing.rubber_band.draw(H)\n",
    "# nx.draw(linegraph,with_labels = True)"
   ]
  },
  {
   "cell_type": "code",
   "execution_count": 35,
   "id": "64431f85",
   "metadata": {},
   "outputs": [],
   "source": [
    "edges = list(linegraph.edges)\n",
    "# print(edges[0:1000])"
   ]
  },
  {
   "cell_type": "code",
   "execution_count": null,
   "id": "93ca9652",
   "metadata": {},
   "outputs": [],
   "source": [
    "articles_one_commenter = [167, 1480,2408,1717,414,702]\n",
    "for i, ID in enumerate(articles_to_commenters):\n",
    "    if i in articles_one_commenter:\n",
    "        print(f'article:{ID}, snippet:{articles[ID][\"snippet\"]}, commenter: {articles_to_commenters[ID]}')"
   ]
  },
  {
   "cell_type": "code",
   "execution_count": null,
   "id": "9340b5b4",
   "metadata": {},
   "outputs": [],
   "source": [
    "locations = set()\n",
    "for item in users:    \n",
    "    place = users[item]['location']\n",
    "    if ',' in place:\n",
    "        locations.add(place)\n",
    "# locations_to_users = {:set({}) for ID in articles}"
   ]
  },
  {
   "cell_type": "code",
   "execution_count": null,
   "id": "679fd501",
   "metadata": {},
   "outputs": [],
   "source": [
    "def containsNumber(value):\n",
    "    if True in [char.isdigit() for char in value]:\n",
    "        return True\n",
    "    return False"
   ]
  },
  {
   "cell_type": "code",
   "execution_count": null,
   "id": "80241eb3",
   "metadata": {},
   "outputs": [],
   "source": [
    "print(type(comments))\n",
    "i = 0\n",
    "for item in comments:\n",
    "    print(comments[item])\n",
    "    i+=1\n",
    "    if i == 5:\n",
    "        break"
   ]
  },
  {
   "cell_type": "code",
   "execution_count": 117,
   "id": "f2dfad89",
   "metadata": {},
   "outputs": [],
   "source": []
  },
  {
   "cell_type": "code",
   "execution_count": null,
   "id": "85000a87",
   "metadata": {},
   "outputs": [],
   "source": [
    "articleIDs = set()\n",
    "locations_to_users = {location:set({}) for location in locations}\n",
    "for ID in comments:\n",
    "    articleID = comments[ID][\"articleID\"]\n",
    "    split_str = articles[articleID]['keywords'].replace('\\'','').replace('[','').replace(']','')\n",
    "#     print(split_str)\n",
    "    string_array = split_str.split(',')\n",
    "#     print(string_array)\n",
    "    print(set(string_array))\n",
    "    break\n",
    "    if comments[ID][\"userLocation\"] in locations:\n",
    "        locations_to_users[comments[ID][\"userLocation\"]].union(set(string_array))\n",
    "        \n",
    "    "
   ]
  },
  {
   "cell_type": "code",
   "execution_count": null,
   "id": "ba863b84",
   "metadata": {},
   "outputs": [],
   "source": [
    "print(type(locations_to_users))\n",
    "i = 0\n",
    "for item in locations_to_users:\n",
    "    print(item)\n",
    "    print(locations_to_users[item])\n",
    "    i+=1\n",
    "    if i == 5:\n",
    "        break\n"
   ]
  },
  {
   "cell_type": "code",
   "execution_count": null,
   "id": "db63f645",
   "metadata": {},
   "outputs": [],
   "source": []
  },
  {
   "cell_type": "code",
   "execution_count": null,
   "id": "631b3593",
   "metadata": {},
   "outputs": [],
   "source": []
  }
 ],
 "metadata": {
  "kernelspec": {
   "display_name": "Python 3 (ipykernel)",
   "language": "python",
   "name": "python3"
  },
  "language_info": {
   "codemirror_mode": {
    "name": "ipython",
    "version": 3
   },
   "file_extension": ".py",
   "mimetype": "text/x-python",
   "name": "python",
   "nbconvert_exporter": "python",
   "pygments_lexer": "ipython3",
   "version": "3.9.12"
  }
 },
 "nbformat": 4,
 "nbformat_minor": 5
}
